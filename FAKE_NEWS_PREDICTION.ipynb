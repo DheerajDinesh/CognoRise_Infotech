{
  "cells": [
    {
      "cell_type": "markdown",
      "metadata": {
        "id": "view-in-github",
        "colab_type": "text"
      },
      "source": [
        "<a href=\"https://colab.research.google.com/github/DheerajDinesh/CognoRise_Infotech/blob/Data_Science/FAKE_NEWS_PREDICTION.ipynb\" target=\"_parent\"><img src=\"https://colab.research.google.com/assets/colab-badge.svg\" alt=\"Open In Colab\"/></a>"
      ]
    },
    {
      "cell_type": "code",
      "execution_count": null,
      "metadata": {
        "id": "vSAl1Q1p1JPQ",
        "colab": {
          "base_uri": "https://localhost:8080/"
        },
        "outputId": "fe75d3b7-90e7-484a-f2cc-11d0bd98428d"
      },
      "outputs": [
        {
          "output_type": "stream",
          "name": "stdout",
          "text": [
            "Drive already mounted at /content/drive; to attempt to forcibly remount, call drive.mount(\"/content/drive\", force_remount=True).\n"
          ]
        }
      ],
      "source": [
        "import numpy as np\n",
        "import pandas as pd\n",
        "import matplotlib.pyplot as plt\n",
        "import seaborn as sns\n",
        "import nltk\n",
        "from tensorflow.keras.models import Sequential\n",
        "from tensorflow.keras.layers import Dense\n",
        "\n",
        "from google.colab import drive\n",
        "drive.mount('/content/drive')"
      ]
    },
    {
      "cell_type": "code",
      "execution_count": null,
      "metadata": {
        "id": "eyEicSap1LUE",
        "colab": {
          "base_uri": "https://localhost:8080/",
          "height": 423
        },
        "outputId": "1b177cff-1885-432f-979a-3e231c80d8bb"
      },
      "outputs": [
        {
          "output_type": "execute_result",
          "data": {
            "text/plain": [
              "      Unnamed: 0                                              title  \\\n",
              "0           8476                     You Can Smell Hillaryâs Fear   \n",
              "1          10294  Watch The Exact Moment Paul Ryan Committed Pol...   \n",
              "2           3608        Kerry to go to Paris in gesture of sympathy   \n",
              "3          10142  Bernie supporters on Twitter erupt in anger ag...   \n",
              "4            875   The Battle of New York: Why This Primary Matters   \n",
              "...          ...                                                ...   \n",
              "6330        4490  State Department says it can't find emails fro...   \n",
              "6331        8062  The âPâ in PBS Should Stand for âPlutocr...   \n",
              "6332        8622  Anti-Trump Protesters Are Tools of the Oligarc...   \n",
              "6333        4021  In Ethiopia, Obama seeks progress on peace, se...   \n",
              "6334        4330  Jeb Bush Is Suddenly Attacking Trump. Here's W...   \n",
              "\n",
              "                                                   text label  \n",
              "0     Daniel Greenfield, a Shillman Journalism Fello...  FAKE  \n",
              "1     Google Pinterest Digg Linkedin Reddit Stumbleu...  FAKE  \n",
              "2     U.S. Secretary of State John F. Kerry said Mon...  REAL  \n",
              "3     â Kaydee King (@KaydeeKing) November 9, 2016...  FAKE  \n",
              "4     It's primary day in New York and front-runners...  REAL  \n",
              "...                                                 ...   ...  \n",
              "6330  The State Department told the Republican Natio...  REAL  \n",
              "6331  The âPâ in PBS Should Stand for âPlutocr...  FAKE  \n",
              "6332   Anti-Trump Protesters Are Tools of the Oligar...  FAKE  \n",
              "6333  ADDIS ABABA, Ethiopia âPresident Obama conve...  REAL  \n",
              "6334  Jeb Bush Is Suddenly Attacking Trump. Here's W...  REAL  \n",
              "\n",
              "[6335 rows x 4 columns]"
            ],
            "text/html": [
              "\n",
              "  <div id=\"df-fbbd25cf-9826-4f60-acbc-235c0d9382f6\" class=\"colab-df-container\">\n",
              "    <div>\n",
              "<style scoped>\n",
              "    .dataframe tbody tr th:only-of-type {\n",
              "        vertical-align: middle;\n",
              "    }\n",
              "\n",
              "    .dataframe tbody tr th {\n",
              "        vertical-align: top;\n",
              "    }\n",
              "\n",
              "    .dataframe thead th {\n",
              "        text-align: right;\n",
              "    }\n",
              "</style>\n",
              "<table border=\"1\" class=\"dataframe\">\n",
              "  <thead>\n",
              "    <tr style=\"text-align: right;\">\n",
              "      <th></th>\n",
              "      <th>Unnamed: 0</th>\n",
              "      <th>title</th>\n",
              "      <th>text</th>\n",
              "      <th>label</th>\n",
              "    </tr>\n",
              "  </thead>\n",
              "  <tbody>\n",
              "    <tr>\n",
              "      <th>0</th>\n",
              "      <td>8476</td>\n",
              "      <td>You Can Smell Hillaryâs Fear</td>\n",
              "      <td>Daniel Greenfield, a Shillman Journalism Fello...</td>\n",
              "      <td>FAKE</td>\n",
              "    </tr>\n",
              "    <tr>\n",
              "      <th>1</th>\n",
              "      <td>10294</td>\n",
              "      <td>Watch The Exact Moment Paul Ryan Committed Pol...</td>\n",
              "      <td>Google Pinterest Digg Linkedin Reddit Stumbleu...</td>\n",
              "      <td>FAKE</td>\n",
              "    </tr>\n",
              "    <tr>\n",
              "      <th>2</th>\n",
              "      <td>3608</td>\n",
              "      <td>Kerry to go to Paris in gesture of sympathy</td>\n",
              "      <td>U.S. Secretary of State John F. Kerry said Mon...</td>\n",
              "      <td>REAL</td>\n",
              "    </tr>\n",
              "    <tr>\n",
              "      <th>3</th>\n",
              "      <td>10142</td>\n",
              "      <td>Bernie supporters on Twitter erupt in anger ag...</td>\n",
              "      <td>â Kaydee King (@KaydeeKing) November 9, 2016...</td>\n",
              "      <td>FAKE</td>\n",
              "    </tr>\n",
              "    <tr>\n",
              "      <th>4</th>\n",
              "      <td>875</td>\n",
              "      <td>The Battle of New York: Why This Primary Matters</td>\n",
              "      <td>It's primary day in New York and front-runners...</td>\n",
              "      <td>REAL</td>\n",
              "    </tr>\n",
              "    <tr>\n",
              "      <th>...</th>\n",
              "      <td>...</td>\n",
              "      <td>...</td>\n",
              "      <td>...</td>\n",
              "      <td>...</td>\n",
              "    </tr>\n",
              "    <tr>\n",
              "      <th>6330</th>\n",
              "      <td>4490</td>\n",
              "      <td>State Department says it can't find emails fro...</td>\n",
              "      <td>The State Department told the Republican Natio...</td>\n",
              "      <td>REAL</td>\n",
              "    </tr>\n",
              "    <tr>\n",
              "      <th>6331</th>\n",
              "      <td>8062</td>\n",
              "      <td>The âPâ in PBS Should Stand for âPlutocr...</td>\n",
              "      <td>The âPâ in PBS Should Stand for âPlutocr...</td>\n",
              "      <td>FAKE</td>\n",
              "    </tr>\n",
              "    <tr>\n",
              "      <th>6332</th>\n",
              "      <td>8622</td>\n",
              "      <td>Anti-Trump Protesters Are Tools of the Oligarc...</td>\n",
              "      <td>Anti-Trump Protesters Are Tools of the Oligar...</td>\n",
              "      <td>FAKE</td>\n",
              "    </tr>\n",
              "    <tr>\n",
              "      <th>6333</th>\n",
              "      <td>4021</td>\n",
              "      <td>In Ethiopia, Obama seeks progress on peace, se...</td>\n",
              "      <td>ADDIS ABABA, Ethiopia âPresident Obama conve...</td>\n",
              "      <td>REAL</td>\n",
              "    </tr>\n",
              "    <tr>\n",
              "      <th>6334</th>\n",
              "      <td>4330</td>\n",
              "      <td>Jeb Bush Is Suddenly Attacking Trump. Here's W...</td>\n",
              "      <td>Jeb Bush Is Suddenly Attacking Trump. Here's W...</td>\n",
              "      <td>REAL</td>\n",
              "    </tr>\n",
              "  </tbody>\n",
              "</table>\n",
              "<p>6335 rows × 4 columns</p>\n",
              "</div>\n",
              "    <div class=\"colab-df-buttons\">\n",
              "\n",
              "  <div class=\"colab-df-container\">\n",
              "    <button class=\"colab-df-convert\" onclick=\"convertToInteractive('df-fbbd25cf-9826-4f60-acbc-235c0d9382f6')\"\n",
              "            title=\"Convert this dataframe to an interactive table.\"\n",
              "            style=\"display:none;\">\n",
              "\n",
              "  <svg xmlns=\"http://www.w3.org/2000/svg\" height=\"24px\" viewBox=\"0 -960 960 960\">\n",
              "    <path d=\"M120-120v-720h720v720H120Zm60-500h600v-160H180v160Zm220 220h160v-160H400v160Zm0 220h160v-160H400v160ZM180-400h160v-160H180v160Zm440 0h160v-160H620v160ZM180-180h160v-160H180v160Zm440 0h160v-160H620v160Z\"/>\n",
              "  </svg>\n",
              "    </button>\n",
              "\n",
              "  <style>\n",
              "    .colab-df-container {\n",
              "      display:flex;\n",
              "      gap: 12px;\n",
              "    }\n",
              "\n",
              "    .colab-df-convert {\n",
              "      background-color: #E8F0FE;\n",
              "      border: none;\n",
              "      border-radius: 50%;\n",
              "      cursor: pointer;\n",
              "      display: none;\n",
              "      fill: #1967D2;\n",
              "      height: 32px;\n",
              "      padding: 0 0 0 0;\n",
              "      width: 32px;\n",
              "    }\n",
              "\n",
              "    .colab-df-convert:hover {\n",
              "      background-color: #E2EBFA;\n",
              "      box-shadow: 0px 1px 2px rgba(60, 64, 67, 0.3), 0px 1px 3px 1px rgba(60, 64, 67, 0.15);\n",
              "      fill: #174EA6;\n",
              "    }\n",
              "\n",
              "    .colab-df-buttons div {\n",
              "      margin-bottom: 4px;\n",
              "    }\n",
              "\n",
              "    [theme=dark] .colab-df-convert {\n",
              "      background-color: #3B4455;\n",
              "      fill: #D2E3FC;\n",
              "    }\n",
              "\n",
              "    [theme=dark] .colab-df-convert:hover {\n",
              "      background-color: #434B5C;\n",
              "      box-shadow: 0px 1px 3px 1px rgba(0, 0, 0, 0.15);\n",
              "      filter: drop-shadow(0px 1px 2px rgba(0, 0, 0, 0.3));\n",
              "      fill: #FFFFFF;\n",
              "    }\n",
              "  </style>\n",
              "\n",
              "    <script>\n",
              "      const buttonEl =\n",
              "        document.querySelector('#df-fbbd25cf-9826-4f60-acbc-235c0d9382f6 button.colab-df-convert');\n",
              "      buttonEl.style.display =\n",
              "        google.colab.kernel.accessAllowed ? 'block' : 'none';\n",
              "\n",
              "      async function convertToInteractive(key) {\n",
              "        const element = document.querySelector('#df-fbbd25cf-9826-4f60-acbc-235c0d9382f6');\n",
              "        const dataTable =\n",
              "          await google.colab.kernel.invokeFunction('convertToInteractive',\n",
              "                                                    [key], {});\n",
              "        if (!dataTable) return;\n",
              "\n",
              "        const docLinkHtml = 'Like what you see? Visit the ' +\n",
              "          '<a target=\"_blank\" href=https://colab.research.google.com/notebooks/data_table.ipynb>data table notebook</a>'\n",
              "          + ' to learn more about interactive tables.';\n",
              "        element.innerHTML = '';\n",
              "        dataTable['output_type'] = 'display_data';\n",
              "        await google.colab.output.renderOutput(dataTable, element);\n",
              "        const docLink = document.createElement('div');\n",
              "        docLink.innerHTML = docLinkHtml;\n",
              "        element.appendChild(docLink);\n",
              "      }\n",
              "    </script>\n",
              "  </div>\n",
              "\n",
              "\n",
              "<div id=\"df-7bf96932-7315-4b2c-a949-8a7693d6cccd\">\n",
              "  <button class=\"colab-df-quickchart\" onclick=\"quickchart('df-7bf96932-7315-4b2c-a949-8a7693d6cccd')\"\n",
              "            title=\"Suggest charts\"\n",
              "            style=\"display:none;\">\n",
              "\n",
              "<svg xmlns=\"http://www.w3.org/2000/svg\" height=\"24px\"viewBox=\"0 0 24 24\"\n",
              "     width=\"24px\">\n",
              "    <g>\n",
              "        <path d=\"M19 3H5c-1.1 0-2 .9-2 2v14c0 1.1.9 2 2 2h14c1.1 0 2-.9 2-2V5c0-1.1-.9-2-2-2zM9 17H7v-7h2v7zm4 0h-2V7h2v10zm4 0h-2v-4h2v4z\"/>\n",
              "    </g>\n",
              "</svg>\n",
              "  </button>\n",
              "\n",
              "<style>\n",
              "  .colab-df-quickchart {\n",
              "      --bg-color: #E8F0FE;\n",
              "      --fill-color: #1967D2;\n",
              "      --hover-bg-color: #E2EBFA;\n",
              "      --hover-fill-color: #174EA6;\n",
              "      --disabled-fill-color: #AAA;\n",
              "      --disabled-bg-color: #DDD;\n",
              "  }\n",
              "\n",
              "  [theme=dark] .colab-df-quickchart {\n",
              "      --bg-color: #3B4455;\n",
              "      --fill-color: #D2E3FC;\n",
              "      --hover-bg-color: #434B5C;\n",
              "      --hover-fill-color: #FFFFFF;\n",
              "      --disabled-bg-color: #3B4455;\n",
              "      --disabled-fill-color: #666;\n",
              "  }\n",
              "\n",
              "  .colab-df-quickchart {\n",
              "    background-color: var(--bg-color);\n",
              "    border: none;\n",
              "    border-radius: 50%;\n",
              "    cursor: pointer;\n",
              "    display: none;\n",
              "    fill: var(--fill-color);\n",
              "    height: 32px;\n",
              "    padding: 0;\n",
              "    width: 32px;\n",
              "  }\n",
              "\n",
              "  .colab-df-quickchart:hover {\n",
              "    background-color: var(--hover-bg-color);\n",
              "    box-shadow: 0 1px 2px rgba(60, 64, 67, 0.3), 0 1px 3px 1px rgba(60, 64, 67, 0.15);\n",
              "    fill: var(--button-hover-fill-color);\n",
              "  }\n",
              "\n",
              "  .colab-df-quickchart-complete:disabled,\n",
              "  .colab-df-quickchart-complete:disabled:hover {\n",
              "    background-color: var(--disabled-bg-color);\n",
              "    fill: var(--disabled-fill-color);\n",
              "    box-shadow: none;\n",
              "  }\n",
              "\n",
              "  .colab-df-spinner {\n",
              "    border: 2px solid var(--fill-color);\n",
              "    border-color: transparent;\n",
              "    border-bottom-color: var(--fill-color);\n",
              "    animation:\n",
              "      spin 1s steps(1) infinite;\n",
              "  }\n",
              "\n",
              "  @keyframes spin {\n",
              "    0% {\n",
              "      border-color: transparent;\n",
              "      border-bottom-color: var(--fill-color);\n",
              "      border-left-color: var(--fill-color);\n",
              "    }\n",
              "    20% {\n",
              "      border-color: transparent;\n",
              "      border-left-color: var(--fill-color);\n",
              "      border-top-color: var(--fill-color);\n",
              "    }\n",
              "    30% {\n",
              "      border-color: transparent;\n",
              "      border-left-color: var(--fill-color);\n",
              "      border-top-color: var(--fill-color);\n",
              "      border-right-color: var(--fill-color);\n",
              "    }\n",
              "    40% {\n",
              "      border-color: transparent;\n",
              "      border-right-color: var(--fill-color);\n",
              "      border-top-color: var(--fill-color);\n",
              "    }\n",
              "    60% {\n",
              "      border-color: transparent;\n",
              "      border-right-color: var(--fill-color);\n",
              "    }\n",
              "    80% {\n",
              "      border-color: transparent;\n",
              "      border-right-color: var(--fill-color);\n",
              "      border-bottom-color: var(--fill-color);\n",
              "    }\n",
              "    90% {\n",
              "      border-color: transparent;\n",
              "      border-bottom-color: var(--fill-color);\n",
              "    }\n",
              "  }\n",
              "</style>\n",
              "\n",
              "  <script>\n",
              "    async function quickchart(key) {\n",
              "      const quickchartButtonEl =\n",
              "        document.querySelector('#' + key + ' button');\n",
              "      quickchartButtonEl.disabled = true;  // To prevent multiple clicks.\n",
              "      quickchartButtonEl.classList.add('colab-df-spinner');\n",
              "      try {\n",
              "        const charts = await google.colab.kernel.invokeFunction(\n",
              "            'suggestCharts', [key], {});\n",
              "      } catch (error) {\n",
              "        console.error('Error during call to suggestCharts:', error);\n",
              "      }\n",
              "      quickchartButtonEl.classList.remove('colab-df-spinner');\n",
              "      quickchartButtonEl.classList.add('colab-df-quickchart-complete');\n",
              "    }\n",
              "    (() => {\n",
              "      let quickchartButtonEl =\n",
              "        document.querySelector('#df-7bf96932-7315-4b2c-a949-8a7693d6cccd button');\n",
              "      quickchartButtonEl.style.display =\n",
              "        google.colab.kernel.accessAllowed ? 'block' : 'none';\n",
              "    })();\n",
              "  </script>\n",
              "</div>\n",
              "\n",
              "  <div id=\"id_f4e8572d-a608-4b27-8c2b-8d8ec808698f\">\n",
              "    <style>\n",
              "      .colab-df-generate {\n",
              "        background-color: #E8F0FE;\n",
              "        border: none;\n",
              "        border-radius: 50%;\n",
              "        cursor: pointer;\n",
              "        display: none;\n",
              "        fill: #1967D2;\n",
              "        height: 32px;\n",
              "        padding: 0 0 0 0;\n",
              "        width: 32px;\n",
              "      }\n",
              "\n",
              "      .colab-df-generate:hover {\n",
              "        background-color: #E2EBFA;\n",
              "        box-shadow: 0px 1px 2px rgba(60, 64, 67, 0.3), 0px 1px 3px 1px rgba(60, 64, 67, 0.15);\n",
              "        fill: #174EA6;\n",
              "      }\n",
              "\n",
              "      [theme=dark] .colab-df-generate {\n",
              "        background-color: #3B4455;\n",
              "        fill: #D2E3FC;\n",
              "      }\n",
              "\n",
              "      [theme=dark] .colab-df-generate:hover {\n",
              "        background-color: #434B5C;\n",
              "        box-shadow: 0px 1px 3px 1px rgba(0, 0, 0, 0.15);\n",
              "        filter: drop-shadow(0px 1px 2px rgba(0, 0, 0, 0.3));\n",
              "        fill: #FFFFFF;\n",
              "      }\n",
              "    </style>\n",
              "    <button class=\"colab-df-generate\" onclick=\"generateWithVariable('df')\"\n",
              "            title=\"Generate code using this dataframe.\"\n",
              "            style=\"display:none;\">\n",
              "\n",
              "  <svg xmlns=\"http://www.w3.org/2000/svg\" height=\"24px\"viewBox=\"0 0 24 24\"\n",
              "       width=\"24px\">\n",
              "    <path d=\"M7,19H8.4L18.45,9,17,7.55,7,17.6ZM5,21V16.75L18.45,3.32a2,2,0,0,1,2.83,0l1.4,1.43a1.91,1.91,0,0,1,.58,1.4,1.91,1.91,0,0,1-.58,1.4L9.25,21ZM18.45,9,17,7.55Zm-12,3A5.31,5.31,0,0,0,4.9,8.1,5.31,5.31,0,0,0,1,6.5,5.31,5.31,0,0,0,4.9,4.9,5.31,5.31,0,0,0,6.5,1,5.31,5.31,0,0,0,8.1,4.9,5.31,5.31,0,0,0,12,6.5,5.46,5.46,0,0,0,6.5,12Z\"/>\n",
              "  </svg>\n",
              "    </button>\n",
              "    <script>\n",
              "      (() => {\n",
              "      const buttonEl =\n",
              "        document.querySelector('#id_f4e8572d-a608-4b27-8c2b-8d8ec808698f button.colab-df-generate');\n",
              "      buttonEl.style.display =\n",
              "        google.colab.kernel.accessAllowed ? 'block' : 'none';\n",
              "\n",
              "      buttonEl.onclick = () => {\n",
              "        google.colab.notebook.generateWithVariable('df');\n",
              "      }\n",
              "      })();\n",
              "    </script>\n",
              "  </div>\n",
              "\n",
              "    </div>\n",
              "  </div>\n"
            ],
            "application/vnd.google.colaboratory.intrinsic+json": {
              "type": "dataframe",
              "variable_name": "df",
              "summary": "{\n  \"name\": \"df\",\n  \"rows\": 6335,\n  \"fields\": [\n    {\n      \"column\": \"Unnamed: 0\",\n      \"properties\": {\n        \"dtype\": \"number\",\n        \"std\": 3038,\n        \"min\": 2,\n        \"max\": 10557,\n        \"num_unique_values\": 6335,\n        \"samples\": [\n          9957,\n          7596,\n          8905\n        ],\n        \"semantic_type\": \"\",\n        \"description\": \"\"\n      }\n    },\n    {\n      \"column\": \"title\",\n      \"properties\": {\n        \"dtype\": \"string\",\n        \"num_unique_values\": 6256,\n        \"samples\": [\n          \"Elizabeth Warren's speech attacking Donald Trump made a bigger argument about Republicans\",\n          \"Assange: Clinton And ISIS Are Funded By Same People, \\u00e2\\u0080\\u009cTrump Not Permitted To Win\\u00e2\\u0080\\u009d\",\n          \"Reporters Stunned to Learn Trump Fans Lining Up 12 Hours Before Rally Starts\"\n        ],\n        \"semantic_type\": \"\",\n        \"description\": \"\"\n      }\n    },\n    {\n      \"column\": \"text\",\n      \"properties\": {\n        \"dtype\": \"string\",\n        \"num_unique_values\": 6060,\n        \"samples\": [\n          \"Republicans taking control of Congress this coming week will try to overcome their reputation as a divided party hobbled by infighting by working to reshape policy in ways that Americans will feel in corporate boardrooms, on factory floors and at the gas pump.\\n\\nIncoming committee chairmen are preparing fresh oversight of federal agencies while rank-and-file members will be encouraged to use a new budget plan and government spending bills to chip away at President Obama\\u00e2\\u0080\\u0099s environmental regulations, health-care reform and outreach to Cuba and Iran.\\n\\nAfter years of sparring with the White House, Republicans are eager to demonstrate productivity and some level of bipartisan \\u00c2\\u00adcooperation with Obama and the Democrats. Public disgust with Washington gridlock remains high, and with the 2016 presidential campaign beginning in earnest, broader voter interest \\u00e2\\u0080\\u0094 especially among independents and Democrats \\u00e2\\u0080\\u0094 could put recent GOP gains at risk in less than two years.\\n\\n\\u00e2\\u0080\\u009cOn the things where we agree, the goal will be to make a law, not just put something on [Obama\\u00e2\\u0080\\u0099s] desk,\\u00e2\\u0080\\u009d incoming Senate Majority Leader Mitch McConnell (R-Ky.) said in an interview, adding later: \\u00e2\\u0080\\u009cI want to make it clear: Desire for a signature is not going to dictate everything that we do.\\u00e2\\u0080\\u009d\\n\\nSecuring final passage of bills will require McConnell and House Speaker John A. Boehner (R-Ohio) to compromise with Democrats while holding together their own ranks, which have clashed repeatedly over issues such as spending and immigration. Many GOP leaders hope that their differences can be set aside in favor of legislative wins.\\n\\nThe House and Senate formally reconvene Tuesday. New members will be sworn in and top leaders and committee chairmen formally installed on a day steeped in tradition and ceremony.\\n\\nBoehner and McConnell will be backed by larger GOP majorities: 246 Republicans in the House \\u00e2\\u0080\\u0094 the party\\u00e2\\u0080\\u0099s largest majority since just after World War II \\u00e2\\u0080\\u0094 and 54 GOP senators, an impressive gain but short of the 60 votes required to overcome most procedural hurdles that Democrats will have at their disposal.\\n\\nIn the Senate, the rebranding effort will begin with energy policy.\\n\\nMcConnell plans to start his tenure as Senate majority leader with a \\u00e2\\u0080\\u009cfull-throated\\u00e2\\u0080\\u009d debate on national energy policy, ranging from a new oil pipeline to additional oil exploration. He has also promised consideration of liberal alternatives.\\n\\nMcConnell wants to use the controversial proposal to authorize construction of the Keystone XL pipeline as the gen\\u00c2\\u00adesis for a free-wheeling Senate debate about the United States\\u00e2\\u0080\\u0099 energy future, in which both sides will have the opportunity to offer and debate more expansive energy issues than the narrow pipeline proposal.\\n\\n\\u00e2\\u0080\\u009cWe can treat this like a serious and significant energy debate,\\u00e2\\u0080\\u009d McConnell said in an interview before Christmas in his Capitol office.\\n\\nObama has resisted GOP efforts to authorize the pipeline, but dozens of moderate congressional Democrats support the bill and a broader energy debate.\\n\\nOther Democrats are skeptical of McConnell\\u00e2\\u0080\\u0099s plans.\\n\\n\\u00e2\\u0080\\u009cThe $64,000 question as to whether the Congress can get anything done is which way the Republican leadership goes,\\u00e2\\u0080\\u009d Sen. Charles E. Schumer (D-N.Y.) said in an interview Saturday. \\u00e2\\u0080\\u009cIf they let the tea party pull them to the right into the path of negativity and obstruction, we\\u00e2\\u0080\\u0099ll get nothing done.\\u00e2\\u0080\\u009d\\n\\nSen. John Hoeven (R-N.D.), a lead author of the Keystone bill, said that Republicans plan to consider proposals allowing the export of liquefied natural gas; to give state governments greater power to oversee hydraulic fracturing; and to restrict the federal government\\u00e2\\u0080\\u0099s role in the construction of cross-border gas pipelines.\\n\\n\\u00e2\\u0080\\u009cI don\\u00e2\\u0080\\u0099t think we have an energy bill that doesn\\u00e2\\u0080\\u0099t have a Democratic co-sponsor on it,\\u00e2\\u0080\\u009d he said. \\u00e2\\u0080\\u009cBecause at the end of the day you\\u00e2\\u0080\\u0099ve got to get at least 60 votes\\u00e2\\u0080\\u009d to clear procedural hurdles.\\n\\nThe open process is part of McConnell\\u00e2\\u0080\\u0099s effort to live up to his pledge to restore the Senate\\u00e2\\u0080\\u0099s grand tradition of free and full debate, while also advancing conservative causes. A skilled practitioner in the use of the Senate\\u00e2\\u0080\\u0099s arcane procedural rules to move or block legislation, McConnell has pledged to use those rules to score conservative wins. He has been coaching GOP senators that their most likely path to wins will come on the annual spending bills for the federal government \\u00e2\\u0080\\u0094 which Republicans have routinely opposed on the grounds that they spend too much taxpayer money.\\n\\nOther party leaders echo those sentiments. \\u00e2\\u0080\\u009cI think a majority [of Republicans] recognize that we have to govern responsibly,\\u00e2\\u0080\\u009d said Sen. John McCain (R-Ariz.), who will become chairman of the Armed Services Committee. \\u00e2\\u0080\\u009cWe have to show that we can be a productive party, and that, I think, will have a direct effect on whether we\\u00e2\\u0080\\u0099re able to elect a Republican as president in 2016.\\u00e2\\u0080\\u009d\\n\\nBut now, with control of the House and Senate, Republicans have more leeway to attach policy riders to spending bills that will restrict federal agencies in their oversight of environmental, labor and other regulations. These still may draw presidential vetoes, but McConnell believes that Republicans will have leverage to get some restrictions included, just as the mammoth spending measure approved last month included language sought by Wall Street firms making risky trades.\\n\\nIn the House, most of the early weeks will seem like a do-over of the past two years \\u00e2\\u0080\\u0094 except that many of the bills passed will get swifter Senate consideration.\\n\\nUp first is a veterans employment bill that passed last year with bipartisan support, according to senior leadership aides. There is also a bill to loosen work requirements set by the Affordable Care Act and a similar bill to authorize the Keystone pipeline.\\n\\nThe second week of January will be devoted to a new spending plan for the Department of Homeland Security. The spending bill funds DHS only until the end of February, a move designed to give Republicans more time to craft a legislative response to Obama\\u00e2\\u0080\\u0099s decision to change immigration policy through executive actions. But no specific proposals have emerged, the aides said.\\n\\nThen there are the investigations into alleged wrongdoing at agencies including the Internal Revenue Service, the Justice Department and the Environmental Protection Agency.\\n\\n\\u00e2\\u0080\\u009cThere are issues that haven\\u00e2\\u0080\\u0099t been resolved,\\u00e2\\u0080\\u009d said Rep. Jason Chaffetz (R-Utah), the new chairman of the House Oversight and Government Reform Committee.\\n\\nHe is launching subcommittees to closely track Obama\\u00e2\\u0080\\u0099s energy and environmental policies and created \\u00e2\\u0080\\u009cadministrative rules,\\u00e2\\u0080\\u009d a panel that will \\u00e2\\u0080\\u009ctry to figure out what the administration is doing next with its rule-making authority. We\\u00e2\\u0080\\u0099re going to jump on those as fast as we possibly can,\\u00e2\\u0080\\u009d he said.\\n\\nBefore the work begins, Boehner is expected to face another leadership challenge. After he survived a close call two years ago, conservative blogs and radio shows are actively supporting another effort to unseat him.\\n\\nPresuming that the 434 currently seated House members show up to vote Tuesday and that all Democrats vote against him, at least 28 of the 246 Republicans also would need to vote against Boehner to deny him the gavel. (The 435th House seat is held by Rep. Michael G. Grimm (R-N.Y.), who plans to resign Monday after recently pleading guilty to tax evasion charges.)\\n\\nRep. Walter B. Jones (R-N.C.), who opposed Boehner two years ago, said in a recent radio interview that he\\u00e2\\u0080\\u0099ll do it again, adding that at least 16 to 18 Republican members might vote against the speaker. Among them is Rep. Jim Bridenstine (R-Okla.), who said Friday that he will vote against the speaker because the spending bill passed last month didn\\u00e2\\u0080\\u0099t fully strip DHS of its funding.\\n\\nRep. Tom Cole (R-Okla.), a Boehner ally, said in an interview that \\u00e2\\u0080\\u009cI expect a few scattered \\u00e2\\u0080\\u0098no\\u00e2\\u0080\\u0099 votes. But because Boehner has been strengthened by the gains in the election, the speaker election should mostly be an uneventful coronation.\\u00e2\\u0080\\u009d\\n\\nThe opening weeks of the new Congress are also expected to include the confirmation of Ashton Carter, Obama\\u00e2\\u0080\\u0099s pick to lead the Pentagon, and Loretta Lynch to be the next attorney general. Concerns with Iran are also expected to be an early focus. The Obama administration persuaded Senate Democrats last year to hold off debating a bipartisan proposal authorizing stronger sanctions against the Iranian regime.\\n\\nBut Sen. Bob Corker (R-Tenn.), the incoming chairman of the Foreign Relations Committee, said, \\u00e2\\u0080\\u009cMy guess is fairly early on in some form or fashion the Senate\\u00e2\\u0080\\u0099s going to want to weigh in on Iran.\\u00e2\\u0080\\u009d\\n\\nCorker also plans to launch \\u00e2\\u0080\\u009ca rigorous hearing process\\u00e2\\u0080\\u009d on Obama\\u00e2\\u0080\\u0099s decision to restore diplomatic relations with Cuba. Republicans have threatened to block funding for a new embassy in Havana and confirmation of a new ambassador to Cuba. But Obama could veto spending bills that include such restrictions, sparking a showdown over whether the GOP is willing to shutter parts of the government over a new Cuba policy.\\n\\nIn 2016, Republicans will be defending at least 24 Senate seats and about a dozen first-term House members from swing districts around the country. Party leaders have a political imperative to govern and avoid short-term fights with Obama.\\n\\n\\u00e2\\u0080\\u009cWe will see if there is an opportunity for a fourth quarter for President Obama that actually moves the country in the direction we\\u00e2\\u0080\\u0099d like to go,\\u00e2\\u0080\\u009d said Sen. Roger Wicker (R-Miss.), who also will be responsible for helping reelect GOP senators in 2016.\\n\\n\\u00e2\\u0080\\u009cReagan did it a generation ago working with Democrats. Clinton did it almost two decades ago with welfare reform and deficit reduction,\\u00e2\\u0080\\u009d he said. \\u00e2\\u0080\\u009cSo it can be done \\u00e2\\u0080\\u0094 if the president is disposed to move in that direction.\\u00e2\\u0080\\u009d\",\n          \"Reps. Kevin McCarthy, R-California, Jason Chaffetz, R-Utah, and Daniel Webster, R-Florida, are the three candidates vying for the post, and the winner becomes the favorite to become second in line to succeed the President of the United States.\\n\\nBut Thursday's vote inside the House GOP conference is just the first step. The candidate who gets the Republican party's internal nod still has to be approved by the full House of Representatives on October 29. And that's where things can get tricky.\\n\\nIf the Republican nominee can't garner 218 votes on the House floor, then Boehner will remain the speaker. And the potential for multiple rounds of votes on the House floor could open up the election to other candidates beyond the three that are in the race now. It would also prolong the deeply divisive and public process for House Republicans, who are hoping to chart a new path forward and prove they can make the dysfunctional Capitol work.\\n\\nThe three candidates will make their pitch to GOP colleagues at a \\\"candidate forum\\\" on Thursday morning in a conference room in the basement of the Capitol. Each gets three minutes to make a speech before answering questions from members. At noon, the 247 members of the House Republican conference gather in the ornate Ways and Means Committee room to vote. Under the House GOP conference rules, the three candidates are not allowed to make their own speeches. Instead each can designate one supporter to make a three-minute address nominating them for the post. Then up to two additional supporters can speak for another minute each on the candidate's behalf. To win the GOP nomination, a candidate needs a simple majority of all House Republicans -- or 125 votes. (That number could change if any House Republicans are absent or opts not to vote in the election.) Boehner plans to vote for McCarthy before heading to New York to tape an appearance on \\\"The Tonight Show,\\\" according to a spokesman. The delegate from American Samoa, Amata Radewagen, who doesn't get a vote on the House floor, does get to cast a vote for speaker inside the conference meeting. RELATED: John Boehner to appear on 'The Tonight Show' Three members serve as \\\"tally clerks\\\" and collect the ballots and count how many votes each candidate receives. Once all the ballots are counted, a representative of the conference will announce the results, along with the vote totals. If no candidate gets a majority of the conference on the first vote, a second ballot circulates with the names of the top two vote-getters, and a winner is announced after those ballots are counted. The new speaker can't take the gavel from Boehner until the full House of Representatives votes. Unlike the private contest on Thursday, the floor vote is covered live by C-SPAN's television cameras inside the House chamber. Each member of Congress is called on in alphabetical order to stand and announce their choice for speaker. The winner must win the votes of a majority -- 218, if everyone in the House is present -- in order to win. The vast majority of House Democrats are expected for to vote for former Speaker and current Minority Leader Nancy Pelosi. House Republican conference rules require that GOP members support their party's nominee on the floor, but many conservatives have ignored that rule in recent elections. That's where any drama will occur. If the GOP nominee fails to get a majority, the contest on the House floor could go to multiple ballots. Boehner will remain the speaker until a majority of the House votes to elect a new candidate. The last time it took more than one ballot to elect a speaker was in 1923 when it took nine ballots over the course of three days. And you don't need to be in the House to get the job. The Constitution does not require that the speaker be someone currently serving in Congress, but all who have been elected to the post have been House members. Former Secretary of State Colin Powell, Sen. Rand Paul and Sen. Jeff Sessions received votes in the January 2015 election . And two years earlier, David Walker, the former head of the General Accounting Office, received one vote\",\n          \"Over the last six years, the Obama administration has been trying to address global warming\\u00c2\\u00a0with a flurry of rules aimed at reducing US carbon-dioxide emissions. First there were stricter fuel-economy standards for cars and trucks. More recently, the EPA\\u00c2\\u00a0proposed sweeping carbon regulations for coal-fired power plants (known as the \\\"Clean Power Plan\\\").\\n\\nThe overarching goal was to cut US greenhouse-gas emissions 17 percent below 2005 levels by 2020. That, the administration believed, would help advance global climate talks.\\n\\nBut all of Obama's moves so far\\u00c2\\u00a0have been insufficient to get to that 17 percent cut by 2020. As recent analyses from the Rhodium Group and the Clean Air Task Force\\u00c2\\u00a0have argued, the US also needs to reduce methane emissions dramatically to get there:\\n\\nCarbon-dioxide is the biggest greenhouse gas responsible for global warming. But it's not the only one. There's also\\u00c2\\u00a0methane.\\u00c2\\u00a0The US burns a lot of methane \\u00e2\\u0080\\u0094 known as \\\"natural gas\\\" \\u00e2\\u0080\\u0094 for energy. But when methane leaks out of oil and gas wells or pipelines and into the atmosphere, it acts as a potent greenhouse gas. (The White House says it's 25 times as effective at trapping heat as carbon dioxide. Other scientists say 34 times.)\\n\\nIn 2012, the EPA estimated that methane accounted for roughly\\u00c2\\u00a08.7 percent of US greenhouse-gas emissions (though this may be an\\u00c2\\u00a0underestimate). But experts have warned that methane leaks could be poised to grow in the coming years.\\n\\nThanks to the\\u00c2\\u00a0fracking boom, US energy companies have been extracting more and more natural gas from shale formations. On one level, that's good news for climate change: utilities are now burning more natural gas for electricity instead of coal, which means lower carbon-dioxide emissions from power plants.\\n\\nThe problem is that all this new drilling increases the risk of methane leaking into the air \\u00e2\\u0080\\u0094 and those leaks\\u00c2\\u00a0are undermining the climate benefits of the gas boom.\\n\\nIn theory, it should be doable to plug these methane emissions,\\u00c2\\u00a0which can come from leaky pipelines or faulty drilling operations. Many companies already\\u00c2\\u00a0use infrared cameras to detect leaks and plug them. And they have financial incentives to do so \\u00e2\\u0080\\u0094 after all, these companies would rather capture that methane and sell it for money than just have it float off into the air.\\n\\nMany oil and gas companies are already taking steps to detect and plug leaks\\n\\nStill, the White House wants to make sure these leaks really get plugged. So, on Wednesday, it\\u00c2\\u00a0announced a goal of cutting methane emissions from oil and gas operations 45 percent below 2012 levels by 2025.\\n\\nThis would be done through a combination of guidelines for voluntary actions by the industry and a hodgepodge of new regulations\\u00c2\\u00a0crafted by the EPA and other agencies. Some rules would focus on methane leaks from new oil and gas wells. Others would focus on pipelines used to transport the natural gas. The Interior Department is updating standards for drilling on public lands.\\n\\nThe White House noted that the oil and gas industry has already managed to cut methane emissions 16 percent since 1990 through voluntary measures. \\\"Nevertheless,\\\" it added, \\\"emissions from the oil and gas sector are projected to rise more than 25 percent by 2025 without additional steps to lower them.\\\"\\n\\nSome environmental groups said the White House's plan didn't go far enough. For example, the EPA is currently only working on rules to reduce emissions at new oil and gas wells \\u00e2\\u0080\\u0094 and only much later will they work on rules for\\u00c2\\u00a0existing wells, which are by far the biggest source of emissions.\\n\\n\\\"While setting methane standards for the first time is an important step, failing to immediately regulate existing oil and gas equipment nationwide misses 90% of the methane pollution from the industry,\\\" Conrad Schneider of the Clean Air Task Force said in a statement.\\n\\nJayni Hein, policy director at the Institute for Policy Integrity at NYU School of Law, agreed: \\\"EPA's steps announced today would trim the sector's methane releases by about a third. We can and should go farther by regulating existing oil and natural gas sources.\\\"\\n\\nBy contrast, many oil and gas companies don't want new regulations at all \\u00e2\\u0080\\u0094 they argue that the industry is already curbing methane leaks as is.\\u00c2\\u00a0\\\"Emissions will continue to fall as operators innovate and find new ways to capture and deliver more methane to consumers,\\\" said Jack Gerard, head of the American Petroleum Institute, in a statement. \\\"Existing EPA and state regulations are working. Another layer of burdensome requirements could actually slow down industry progress to reduce methane emissions.\\\"\\n\\nMeanwhile, it's worth noting that there are other sources of methane besides oil and gas. In 2012,\\u00c2\\u00a0according to the EPA, roughly 30 percent of methane in the United States came from natural-gas and petroleum operations (though, again, that may be an undercount).\\n\\nObama is relying on voluntary measures for methane in agriculture\\n\\n-- By contrast,\\u00c2\\u00a036 percent of US.methane emissions came from agriculture. The beef and dairy industry is a major contributor here: when cows belch, they produce methane (known as \\\"enteric fermentation\\\"). Other sources include decomposing cow manure, as well as methane from rice cultivation.\\n\\n-- Another\\u00c2\\u00a018 percent came from landfills. When food and other trash decays in a landfill, the organisms that feed on that trash emit methane into the atmosphere.\\n\\nThe Obama administration\\u00c2\\u00a0has been working on steps to cut methane in these areas, too. Back in March, the EPA announced it would come up with standards to reduce methane from all future landfills. It will then solicit public comments on whether to regulate landfills that have already been built.\\n\\nAs for cow burps, however, the administration is relying on purely voluntary measures for now. In June 2014, the EPA unveiled a \\\"partnership\\\" with the dairy industry to speed up the adoption of methane digesters that turn cow dung into energy. The hope is to reduce methane emissions from the dairy sector 25 percent by 2020.\\n\\nFurther reading: Obama has promised to cut US emissions 17% by 2020. Is that still possible?\"\n        ],\n        \"semantic_type\": \"\",\n        \"description\": \"\"\n      }\n    },\n    {\n      \"column\": \"label\",\n      \"properties\": {\n        \"dtype\": \"category\",\n        \"num_unique_values\": 2,\n        \"samples\": [\n          \"REAL\",\n          \"FAKE\"\n        ],\n        \"semantic_type\": \"\",\n        \"description\": \"\"\n      }\n    }\n  ]\n}"
            }
          },
          "metadata": {},
          "execution_count": 2
        }
      ],
      "source": [
        "df=pd.read_csv('/content/drive/MyDrive/CognoRise Infotech/Data_Science/news.csv', encoding='ISO-8859-1')\n",
        "df"
      ]
    },
    {
      "cell_type": "code",
      "execution_count": null,
      "metadata": {
        "id": "eZRk24wt2TY_",
        "colab": {
          "base_uri": "https://localhost:8080/"
        },
        "outputId": "390eb1de-f663-476d-ea89-e680a87403e1"
      },
      "outputs": [
        {
          "output_type": "execute_result",
          "data": {
            "text/plain": [
              "Unnamed: 0     int64\n",
              "title         object\n",
              "text          object\n",
              "label         object\n",
              "dtype: object"
            ]
          },
          "metadata": {},
          "execution_count": 3
        }
      ],
      "source": [
        "df.dtypes"
      ]
    },
    {
      "cell_type": "code",
      "execution_count": null,
      "metadata": {
        "id": "YY_-UDu-2YgV",
        "colab": {
          "base_uri": "https://localhost:8080/"
        },
        "outputId": "7130fa4b-ca4c-47dc-e5b3-7946e78db842"
      },
      "outputs": [
        {
          "output_type": "execute_result",
          "data": {
            "text/plain": [
              "Unnamed: 0    0\n",
              "title         0\n",
              "text          0\n",
              "label         0\n",
              "dtype: int64"
            ]
          },
          "metadata": {},
          "execution_count": 4
        }
      ],
      "source": [
        "df.isna().sum()"
      ]
    },
    {
      "cell_type": "code",
      "execution_count": null,
      "metadata": {
        "id": "STYaZl3D2Q3M",
        "colab": {
          "base_uri": "https://localhost:8080/",
          "height": 206
        },
        "outputId": "bea8f9aa-e4d8-4950-81ef-15f2a8f4dac7"
      },
      "outputs": [
        {
          "output_type": "execute_result",
          "data": {
            "text/plain": [
              "   Unnamed: 0                                              title  \\\n",
              "0        8476                     You Can Smell Hillaryâs Fear   \n",
              "1       10294  Watch The Exact Moment Paul Ryan Committed Pol...   \n",
              "2        3608        Kerry to go to Paris in gesture of sympathy   \n",
              "3       10142  Bernie supporters on Twitter erupt in anger ag...   \n",
              "4         875   The Battle of New York: Why This Primary Matters   \n",
              "\n",
              "                                                text label  \n",
              "0  Daniel Greenfield, a Shillman Journalism Fello...  FAKE  \n",
              "1  Google Pinterest Digg Linkedin Reddit Stumbleu...  FAKE  \n",
              "2  U.S. Secretary of State John F. Kerry said Mon...  REAL  \n",
              "3  â Kaydee King (@KaydeeKing) November 9, 2016...  FAKE  \n",
              "4  It's primary day in New York and front-runners...  REAL  "
            ],
            "text/html": [
              "\n",
              "  <div id=\"df-a34a1c5a-08c2-464f-b648-acdc3cc632ac\" class=\"colab-df-container\">\n",
              "    <div>\n",
              "<style scoped>\n",
              "    .dataframe tbody tr th:only-of-type {\n",
              "        vertical-align: middle;\n",
              "    }\n",
              "\n",
              "    .dataframe tbody tr th {\n",
              "        vertical-align: top;\n",
              "    }\n",
              "\n",
              "    .dataframe thead th {\n",
              "        text-align: right;\n",
              "    }\n",
              "</style>\n",
              "<table border=\"1\" class=\"dataframe\">\n",
              "  <thead>\n",
              "    <tr style=\"text-align: right;\">\n",
              "      <th></th>\n",
              "      <th>Unnamed: 0</th>\n",
              "      <th>title</th>\n",
              "      <th>text</th>\n",
              "      <th>label</th>\n",
              "    </tr>\n",
              "  </thead>\n",
              "  <tbody>\n",
              "    <tr>\n",
              "      <th>0</th>\n",
              "      <td>8476</td>\n",
              "      <td>You Can Smell Hillaryâs Fear</td>\n",
              "      <td>Daniel Greenfield, a Shillman Journalism Fello...</td>\n",
              "      <td>FAKE</td>\n",
              "    </tr>\n",
              "    <tr>\n",
              "      <th>1</th>\n",
              "      <td>10294</td>\n",
              "      <td>Watch The Exact Moment Paul Ryan Committed Pol...</td>\n",
              "      <td>Google Pinterest Digg Linkedin Reddit Stumbleu...</td>\n",
              "      <td>FAKE</td>\n",
              "    </tr>\n",
              "    <tr>\n",
              "      <th>2</th>\n",
              "      <td>3608</td>\n",
              "      <td>Kerry to go to Paris in gesture of sympathy</td>\n",
              "      <td>U.S. Secretary of State John F. Kerry said Mon...</td>\n",
              "      <td>REAL</td>\n",
              "    </tr>\n",
              "    <tr>\n",
              "      <th>3</th>\n",
              "      <td>10142</td>\n",
              "      <td>Bernie supporters on Twitter erupt in anger ag...</td>\n",
              "      <td>â Kaydee King (@KaydeeKing) November 9, 2016...</td>\n",
              "      <td>FAKE</td>\n",
              "    </tr>\n",
              "    <tr>\n",
              "      <th>4</th>\n",
              "      <td>875</td>\n",
              "      <td>The Battle of New York: Why This Primary Matters</td>\n",
              "      <td>It's primary day in New York and front-runners...</td>\n",
              "      <td>REAL</td>\n",
              "    </tr>\n",
              "  </tbody>\n",
              "</table>\n",
              "</div>\n",
              "    <div class=\"colab-df-buttons\">\n",
              "\n",
              "  <div class=\"colab-df-container\">\n",
              "    <button class=\"colab-df-convert\" onclick=\"convertToInteractive('df-a34a1c5a-08c2-464f-b648-acdc3cc632ac')\"\n",
              "            title=\"Convert this dataframe to an interactive table.\"\n",
              "            style=\"display:none;\">\n",
              "\n",
              "  <svg xmlns=\"http://www.w3.org/2000/svg\" height=\"24px\" viewBox=\"0 -960 960 960\">\n",
              "    <path d=\"M120-120v-720h720v720H120Zm60-500h600v-160H180v160Zm220 220h160v-160H400v160Zm0 220h160v-160H400v160ZM180-400h160v-160H180v160Zm440 0h160v-160H620v160ZM180-180h160v-160H180v160Zm440 0h160v-160H620v160Z\"/>\n",
              "  </svg>\n",
              "    </button>\n",
              "\n",
              "  <style>\n",
              "    .colab-df-container {\n",
              "      display:flex;\n",
              "      gap: 12px;\n",
              "    }\n",
              "\n",
              "    .colab-df-convert {\n",
              "      background-color: #E8F0FE;\n",
              "      border: none;\n",
              "      border-radius: 50%;\n",
              "      cursor: pointer;\n",
              "      display: none;\n",
              "      fill: #1967D2;\n",
              "      height: 32px;\n",
              "      padding: 0 0 0 0;\n",
              "      width: 32px;\n",
              "    }\n",
              "\n",
              "    .colab-df-convert:hover {\n",
              "      background-color: #E2EBFA;\n",
              "      box-shadow: 0px 1px 2px rgba(60, 64, 67, 0.3), 0px 1px 3px 1px rgba(60, 64, 67, 0.15);\n",
              "      fill: #174EA6;\n",
              "    }\n",
              "\n",
              "    .colab-df-buttons div {\n",
              "      margin-bottom: 4px;\n",
              "    }\n",
              "\n",
              "    [theme=dark] .colab-df-convert {\n",
              "      background-color: #3B4455;\n",
              "      fill: #D2E3FC;\n",
              "    }\n",
              "\n",
              "    [theme=dark] .colab-df-convert:hover {\n",
              "      background-color: #434B5C;\n",
              "      box-shadow: 0px 1px 3px 1px rgba(0, 0, 0, 0.15);\n",
              "      filter: drop-shadow(0px 1px 2px rgba(0, 0, 0, 0.3));\n",
              "      fill: #FFFFFF;\n",
              "    }\n",
              "  </style>\n",
              "\n",
              "    <script>\n",
              "      const buttonEl =\n",
              "        document.querySelector('#df-a34a1c5a-08c2-464f-b648-acdc3cc632ac button.colab-df-convert');\n",
              "      buttonEl.style.display =\n",
              "        google.colab.kernel.accessAllowed ? 'block' : 'none';\n",
              "\n",
              "      async function convertToInteractive(key) {\n",
              "        const element = document.querySelector('#df-a34a1c5a-08c2-464f-b648-acdc3cc632ac');\n",
              "        const dataTable =\n",
              "          await google.colab.kernel.invokeFunction('convertToInteractive',\n",
              "                                                    [key], {});\n",
              "        if (!dataTable) return;\n",
              "\n",
              "        const docLinkHtml = 'Like what you see? Visit the ' +\n",
              "          '<a target=\"_blank\" href=https://colab.research.google.com/notebooks/data_table.ipynb>data table notebook</a>'\n",
              "          + ' to learn more about interactive tables.';\n",
              "        element.innerHTML = '';\n",
              "        dataTable['output_type'] = 'display_data';\n",
              "        await google.colab.output.renderOutput(dataTable, element);\n",
              "        const docLink = document.createElement('div');\n",
              "        docLink.innerHTML = docLinkHtml;\n",
              "        element.appendChild(docLink);\n",
              "      }\n",
              "    </script>\n",
              "  </div>\n",
              "\n",
              "\n",
              "<div id=\"df-a85b26b6-5dcd-4064-a339-036c5c3134e1\">\n",
              "  <button class=\"colab-df-quickchart\" onclick=\"quickchart('df-a85b26b6-5dcd-4064-a339-036c5c3134e1')\"\n",
              "            title=\"Suggest charts\"\n",
              "            style=\"display:none;\">\n",
              "\n",
              "<svg xmlns=\"http://www.w3.org/2000/svg\" height=\"24px\"viewBox=\"0 0 24 24\"\n",
              "     width=\"24px\">\n",
              "    <g>\n",
              "        <path d=\"M19 3H5c-1.1 0-2 .9-2 2v14c0 1.1.9 2 2 2h14c1.1 0 2-.9 2-2V5c0-1.1-.9-2-2-2zM9 17H7v-7h2v7zm4 0h-2V7h2v10zm4 0h-2v-4h2v4z\"/>\n",
              "    </g>\n",
              "</svg>\n",
              "  </button>\n",
              "\n",
              "<style>\n",
              "  .colab-df-quickchart {\n",
              "      --bg-color: #E8F0FE;\n",
              "      --fill-color: #1967D2;\n",
              "      --hover-bg-color: #E2EBFA;\n",
              "      --hover-fill-color: #174EA6;\n",
              "      --disabled-fill-color: #AAA;\n",
              "      --disabled-bg-color: #DDD;\n",
              "  }\n",
              "\n",
              "  [theme=dark] .colab-df-quickchart {\n",
              "      --bg-color: #3B4455;\n",
              "      --fill-color: #D2E3FC;\n",
              "      --hover-bg-color: #434B5C;\n",
              "      --hover-fill-color: #FFFFFF;\n",
              "      --disabled-bg-color: #3B4455;\n",
              "      --disabled-fill-color: #666;\n",
              "  }\n",
              "\n",
              "  .colab-df-quickchart {\n",
              "    background-color: var(--bg-color);\n",
              "    border: none;\n",
              "    border-radius: 50%;\n",
              "    cursor: pointer;\n",
              "    display: none;\n",
              "    fill: var(--fill-color);\n",
              "    height: 32px;\n",
              "    padding: 0;\n",
              "    width: 32px;\n",
              "  }\n",
              "\n",
              "  .colab-df-quickchart:hover {\n",
              "    background-color: var(--hover-bg-color);\n",
              "    box-shadow: 0 1px 2px rgba(60, 64, 67, 0.3), 0 1px 3px 1px rgba(60, 64, 67, 0.15);\n",
              "    fill: var(--button-hover-fill-color);\n",
              "  }\n",
              "\n",
              "  .colab-df-quickchart-complete:disabled,\n",
              "  .colab-df-quickchart-complete:disabled:hover {\n",
              "    background-color: var(--disabled-bg-color);\n",
              "    fill: var(--disabled-fill-color);\n",
              "    box-shadow: none;\n",
              "  }\n",
              "\n",
              "  .colab-df-spinner {\n",
              "    border: 2px solid var(--fill-color);\n",
              "    border-color: transparent;\n",
              "    border-bottom-color: var(--fill-color);\n",
              "    animation:\n",
              "      spin 1s steps(1) infinite;\n",
              "  }\n",
              "\n",
              "  @keyframes spin {\n",
              "    0% {\n",
              "      border-color: transparent;\n",
              "      border-bottom-color: var(--fill-color);\n",
              "      border-left-color: var(--fill-color);\n",
              "    }\n",
              "    20% {\n",
              "      border-color: transparent;\n",
              "      border-left-color: var(--fill-color);\n",
              "      border-top-color: var(--fill-color);\n",
              "    }\n",
              "    30% {\n",
              "      border-color: transparent;\n",
              "      border-left-color: var(--fill-color);\n",
              "      border-top-color: var(--fill-color);\n",
              "      border-right-color: var(--fill-color);\n",
              "    }\n",
              "    40% {\n",
              "      border-color: transparent;\n",
              "      border-right-color: var(--fill-color);\n",
              "      border-top-color: var(--fill-color);\n",
              "    }\n",
              "    60% {\n",
              "      border-color: transparent;\n",
              "      border-right-color: var(--fill-color);\n",
              "    }\n",
              "    80% {\n",
              "      border-color: transparent;\n",
              "      border-right-color: var(--fill-color);\n",
              "      border-bottom-color: var(--fill-color);\n",
              "    }\n",
              "    90% {\n",
              "      border-color: transparent;\n",
              "      border-bottom-color: var(--fill-color);\n",
              "    }\n",
              "  }\n",
              "</style>\n",
              "\n",
              "  <script>\n",
              "    async function quickchart(key) {\n",
              "      const quickchartButtonEl =\n",
              "        document.querySelector('#' + key + ' button');\n",
              "      quickchartButtonEl.disabled = true;  // To prevent multiple clicks.\n",
              "      quickchartButtonEl.classList.add('colab-df-spinner');\n",
              "      try {\n",
              "        const charts = await google.colab.kernel.invokeFunction(\n",
              "            'suggestCharts', [key], {});\n",
              "      } catch (error) {\n",
              "        console.error('Error during call to suggestCharts:', error);\n",
              "      }\n",
              "      quickchartButtonEl.classList.remove('colab-df-spinner');\n",
              "      quickchartButtonEl.classList.add('colab-df-quickchart-complete');\n",
              "    }\n",
              "    (() => {\n",
              "      let quickchartButtonEl =\n",
              "        document.querySelector('#df-a85b26b6-5dcd-4064-a339-036c5c3134e1 button');\n",
              "      quickchartButtonEl.style.display =\n",
              "        google.colab.kernel.accessAllowed ? 'block' : 'none';\n",
              "    })();\n",
              "  </script>\n",
              "</div>\n",
              "\n",
              "    </div>\n",
              "  </div>\n"
            ],
            "application/vnd.google.colaboratory.intrinsic+json": {
              "type": "dataframe",
              "variable_name": "df",
              "summary": "{\n  \"name\": \"df\",\n  \"rows\": 6335,\n  \"fields\": [\n    {\n      \"column\": \"Unnamed: 0\",\n      \"properties\": {\n        \"dtype\": \"number\",\n        \"std\": 3038,\n        \"min\": 2,\n        \"max\": 10557,\n        \"num_unique_values\": 6335,\n        \"samples\": [\n          9957,\n          7596,\n          8905\n        ],\n        \"semantic_type\": \"\",\n        \"description\": \"\"\n      }\n    },\n    {\n      \"column\": \"title\",\n      \"properties\": {\n        \"dtype\": \"string\",\n        \"num_unique_values\": 6256,\n        \"samples\": [\n          \"Elizabeth Warren's speech attacking Donald Trump made a bigger argument about Republicans\",\n          \"Assange: Clinton And ISIS Are Funded By Same People, \\u00e2\\u0080\\u009cTrump Not Permitted To Win\\u00e2\\u0080\\u009d\",\n          \"Reporters Stunned to Learn Trump Fans Lining Up 12 Hours Before Rally Starts\"\n        ],\n        \"semantic_type\": \"\",\n        \"description\": \"\"\n      }\n    },\n    {\n      \"column\": \"text\",\n      \"properties\": {\n        \"dtype\": \"string\",\n        \"num_unique_values\": 6060,\n        \"samples\": [\n          \"Republicans taking control of Congress this coming week will try to overcome their reputation as a divided party hobbled by infighting by working to reshape policy in ways that Americans will feel in corporate boardrooms, on factory floors and at the gas pump.\\n\\nIncoming committee chairmen are preparing fresh oversight of federal agencies while rank-and-file members will be encouraged to use a new budget plan and government spending bills to chip away at President Obama\\u00e2\\u0080\\u0099s environmental regulations, health-care reform and outreach to Cuba and Iran.\\n\\nAfter years of sparring with the White House, Republicans are eager to demonstrate productivity and some level of bipartisan \\u00c2\\u00adcooperation with Obama and the Democrats. Public disgust with Washington gridlock remains high, and with the 2016 presidential campaign beginning in earnest, broader voter interest \\u00e2\\u0080\\u0094 especially among independents and Democrats \\u00e2\\u0080\\u0094 could put recent GOP gains at risk in less than two years.\\n\\n\\u00e2\\u0080\\u009cOn the things where we agree, the goal will be to make a law, not just put something on [Obama\\u00e2\\u0080\\u0099s] desk,\\u00e2\\u0080\\u009d incoming Senate Majority Leader Mitch McConnell (R-Ky.) said in an interview, adding later: \\u00e2\\u0080\\u009cI want to make it clear: Desire for a signature is not going to dictate everything that we do.\\u00e2\\u0080\\u009d\\n\\nSecuring final passage of bills will require McConnell and House Speaker John A. Boehner (R-Ohio) to compromise with Democrats while holding together their own ranks, which have clashed repeatedly over issues such as spending and immigration. Many GOP leaders hope that their differences can be set aside in favor of legislative wins.\\n\\nThe House and Senate formally reconvene Tuesday. New members will be sworn in and top leaders and committee chairmen formally installed on a day steeped in tradition and ceremony.\\n\\nBoehner and McConnell will be backed by larger GOP majorities: 246 Republicans in the House \\u00e2\\u0080\\u0094 the party\\u00e2\\u0080\\u0099s largest majority since just after World War II \\u00e2\\u0080\\u0094 and 54 GOP senators, an impressive gain but short of the 60 votes required to overcome most procedural hurdles that Democrats will have at their disposal.\\n\\nIn the Senate, the rebranding effort will begin with energy policy.\\n\\nMcConnell plans to start his tenure as Senate majority leader with a \\u00e2\\u0080\\u009cfull-throated\\u00e2\\u0080\\u009d debate on national energy policy, ranging from a new oil pipeline to additional oil exploration. He has also promised consideration of liberal alternatives.\\n\\nMcConnell wants to use the controversial proposal to authorize construction of the Keystone XL pipeline as the gen\\u00c2\\u00adesis for a free-wheeling Senate debate about the United States\\u00e2\\u0080\\u0099 energy future, in which both sides will have the opportunity to offer and debate more expansive energy issues than the narrow pipeline proposal.\\n\\n\\u00e2\\u0080\\u009cWe can treat this like a serious and significant energy debate,\\u00e2\\u0080\\u009d McConnell said in an interview before Christmas in his Capitol office.\\n\\nObama has resisted GOP efforts to authorize the pipeline, but dozens of moderate congressional Democrats support the bill and a broader energy debate.\\n\\nOther Democrats are skeptical of McConnell\\u00e2\\u0080\\u0099s plans.\\n\\n\\u00e2\\u0080\\u009cThe $64,000 question as to whether the Congress can get anything done is which way the Republican leadership goes,\\u00e2\\u0080\\u009d Sen. Charles E. Schumer (D-N.Y.) said in an interview Saturday. \\u00e2\\u0080\\u009cIf they let the tea party pull them to the right into the path of negativity and obstruction, we\\u00e2\\u0080\\u0099ll get nothing done.\\u00e2\\u0080\\u009d\\n\\nSen. John Hoeven (R-N.D.), a lead author of the Keystone bill, said that Republicans plan to consider proposals allowing the export of liquefied natural gas; to give state governments greater power to oversee hydraulic fracturing; and to restrict the federal government\\u00e2\\u0080\\u0099s role in the construction of cross-border gas pipelines.\\n\\n\\u00e2\\u0080\\u009cI don\\u00e2\\u0080\\u0099t think we have an energy bill that doesn\\u00e2\\u0080\\u0099t have a Democratic co-sponsor on it,\\u00e2\\u0080\\u009d he said. \\u00e2\\u0080\\u009cBecause at the end of the day you\\u00e2\\u0080\\u0099ve got to get at least 60 votes\\u00e2\\u0080\\u009d to clear procedural hurdles.\\n\\nThe open process is part of McConnell\\u00e2\\u0080\\u0099s effort to live up to his pledge to restore the Senate\\u00e2\\u0080\\u0099s grand tradition of free and full debate, while also advancing conservative causes. A skilled practitioner in the use of the Senate\\u00e2\\u0080\\u0099s arcane procedural rules to move or block legislation, McConnell has pledged to use those rules to score conservative wins. He has been coaching GOP senators that their most likely path to wins will come on the annual spending bills for the federal government \\u00e2\\u0080\\u0094 which Republicans have routinely opposed on the grounds that they spend too much taxpayer money.\\n\\nOther party leaders echo those sentiments. \\u00e2\\u0080\\u009cI think a majority [of Republicans] recognize that we have to govern responsibly,\\u00e2\\u0080\\u009d said Sen. John McCain (R-Ariz.), who will become chairman of the Armed Services Committee. \\u00e2\\u0080\\u009cWe have to show that we can be a productive party, and that, I think, will have a direct effect on whether we\\u00e2\\u0080\\u0099re able to elect a Republican as president in 2016.\\u00e2\\u0080\\u009d\\n\\nBut now, with control of the House and Senate, Republicans have more leeway to attach policy riders to spending bills that will restrict federal agencies in their oversight of environmental, labor and other regulations. These still may draw presidential vetoes, but McConnell believes that Republicans will have leverage to get some restrictions included, just as the mammoth spending measure approved last month included language sought by Wall Street firms making risky trades.\\n\\nIn the House, most of the early weeks will seem like a do-over of the past two years \\u00e2\\u0080\\u0094 except that many of the bills passed will get swifter Senate consideration.\\n\\nUp first is a veterans employment bill that passed last year with bipartisan support, according to senior leadership aides. There is also a bill to loosen work requirements set by the Affordable Care Act and a similar bill to authorize the Keystone pipeline.\\n\\nThe second week of January will be devoted to a new spending plan for the Department of Homeland Security. The spending bill funds DHS only until the end of February, a move designed to give Republicans more time to craft a legislative response to Obama\\u00e2\\u0080\\u0099s decision to change immigration policy through executive actions. But no specific proposals have emerged, the aides said.\\n\\nThen there are the investigations into alleged wrongdoing at agencies including the Internal Revenue Service, the Justice Department and the Environmental Protection Agency.\\n\\n\\u00e2\\u0080\\u009cThere are issues that haven\\u00e2\\u0080\\u0099t been resolved,\\u00e2\\u0080\\u009d said Rep. Jason Chaffetz (R-Utah), the new chairman of the House Oversight and Government Reform Committee.\\n\\nHe is launching subcommittees to closely track Obama\\u00e2\\u0080\\u0099s energy and environmental policies and created \\u00e2\\u0080\\u009cadministrative rules,\\u00e2\\u0080\\u009d a panel that will \\u00e2\\u0080\\u009ctry to figure out what the administration is doing next with its rule-making authority. We\\u00e2\\u0080\\u0099re going to jump on those as fast as we possibly can,\\u00e2\\u0080\\u009d he said.\\n\\nBefore the work begins, Boehner is expected to face another leadership challenge. After he survived a close call two years ago, conservative blogs and radio shows are actively supporting another effort to unseat him.\\n\\nPresuming that the 434 currently seated House members show up to vote Tuesday and that all Democrats vote against him, at least 28 of the 246 Republicans also would need to vote against Boehner to deny him the gavel. (The 435th House seat is held by Rep. Michael G. Grimm (R-N.Y.), who plans to resign Monday after recently pleading guilty to tax evasion charges.)\\n\\nRep. Walter B. Jones (R-N.C.), who opposed Boehner two years ago, said in a recent radio interview that he\\u00e2\\u0080\\u0099ll do it again, adding that at least 16 to 18 Republican members might vote against the speaker. Among them is Rep. Jim Bridenstine (R-Okla.), who said Friday that he will vote against the speaker because the spending bill passed last month didn\\u00e2\\u0080\\u0099t fully strip DHS of its funding.\\n\\nRep. Tom Cole (R-Okla.), a Boehner ally, said in an interview that \\u00e2\\u0080\\u009cI expect a few scattered \\u00e2\\u0080\\u0098no\\u00e2\\u0080\\u0099 votes. But because Boehner has been strengthened by the gains in the election, the speaker election should mostly be an uneventful coronation.\\u00e2\\u0080\\u009d\\n\\nThe opening weeks of the new Congress are also expected to include the confirmation of Ashton Carter, Obama\\u00e2\\u0080\\u0099s pick to lead the Pentagon, and Loretta Lynch to be the next attorney general. Concerns with Iran are also expected to be an early focus. The Obama administration persuaded Senate Democrats last year to hold off debating a bipartisan proposal authorizing stronger sanctions against the Iranian regime.\\n\\nBut Sen. Bob Corker (R-Tenn.), the incoming chairman of the Foreign Relations Committee, said, \\u00e2\\u0080\\u009cMy guess is fairly early on in some form or fashion the Senate\\u00e2\\u0080\\u0099s going to want to weigh in on Iran.\\u00e2\\u0080\\u009d\\n\\nCorker also plans to launch \\u00e2\\u0080\\u009ca rigorous hearing process\\u00e2\\u0080\\u009d on Obama\\u00e2\\u0080\\u0099s decision to restore diplomatic relations with Cuba. Republicans have threatened to block funding for a new embassy in Havana and confirmation of a new ambassador to Cuba. But Obama could veto spending bills that include such restrictions, sparking a showdown over whether the GOP is willing to shutter parts of the government over a new Cuba policy.\\n\\nIn 2016, Republicans will be defending at least 24 Senate seats and about a dozen first-term House members from swing districts around the country. Party leaders have a political imperative to govern and avoid short-term fights with Obama.\\n\\n\\u00e2\\u0080\\u009cWe will see if there is an opportunity for a fourth quarter for President Obama that actually moves the country in the direction we\\u00e2\\u0080\\u0099d like to go,\\u00e2\\u0080\\u009d said Sen. Roger Wicker (R-Miss.), who also will be responsible for helping reelect GOP senators in 2016.\\n\\n\\u00e2\\u0080\\u009cReagan did it a generation ago working with Democrats. Clinton did it almost two decades ago with welfare reform and deficit reduction,\\u00e2\\u0080\\u009d he said. \\u00e2\\u0080\\u009cSo it can be done \\u00e2\\u0080\\u0094 if the president is disposed to move in that direction.\\u00e2\\u0080\\u009d\",\n          \"Reps. Kevin McCarthy, R-California, Jason Chaffetz, R-Utah, and Daniel Webster, R-Florida, are the three candidates vying for the post, and the winner becomes the favorite to become second in line to succeed the President of the United States.\\n\\nBut Thursday's vote inside the House GOP conference is just the first step. The candidate who gets the Republican party's internal nod still has to be approved by the full House of Representatives on October 29. And that's where things can get tricky.\\n\\nIf the Republican nominee can't garner 218 votes on the House floor, then Boehner will remain the speaker. And the potential for multiple rounds of votes on the House floor could open up the election to other candidates beyond the three that are in the race now. It would also prolong the deeply divisive and public process for House Republicans, who are hoping to chart a new path forward and prove they can make the dysfunctional Capitol work.\\n\\nThe three candidates will make their pitch to GOP colleagues at a \\\"candidate forum\\\" on Thursday morning in a conference room in the basement of the Capitol. Each gets three minutes to make a speech before answering questions from members. At noon, the 247 members of the House Republican conference gather in the ornate Ways and Means Committee room to vote. Under the House GOP conference rules, the three candidates are not allowed to make their own speeches. Instead each can designate one supporter to make a three-minute address nominating them for the post. Then up to two additional supporters can speak for another minute each on the candidate's behalf. To win the GOP nomination, a candidate needs a simple majority of all House Republicans -- or 125 votes. (That number could change if any House Republicans are absent or opts not to vote in the election.) Boehner plans to vote for McCarthy before heading to New York to tape an appearance on \\\"The Tonight Show,\\\" according to a spokesman. The delegate from American Samoa, Amata Radewagen, who doesn't get a vote on the House floor, does get to cast a vote for speaker inside the conference meeting. RELATED: John Boehner to appear on 'The Tonight Show' Three members serve as \\\"tally clerks\\\" and collect the ballots and count how many votes each candidate receives. Once all the ballots are counted, a representative of the conference will announce the results, along with the vote totals. If no candidate gets a majority of the conference on the first vote, a second ballot circulates with the names of the top two vote-getters, and a winner is announced after those ballots are counted. The new speaker can't take the gavel from Boehner until the full House of Representatives votes. Unlike the private contest on Thursday, the floor vote is covered live by C-SPAN's television cameras inside the House chamber. Each member of Congress is called on in alphabetical order to stand and announce their choice for speaker. The winner must win the votes of a majority -- 218, if everyone in the House is present -- in order to win. The vast majority of House Democrats are expected for to vote for former Speaker and current Minority Leader Nancy Pelosi. House Republican conference rules require that GOP members support their party's nominee on the floor, but many conservatives have ignored that rule in recent elections. That's where any drama will occur. If the GOP nominee fails to get a majority, the contest on the House floor could go to multiple ballots. Boehner will remain the speaker until a majority of the House votes to elect a new candidate. The last time it took more than one ballot to elect a speaker was in 1923 when it took nine ballots over the course of three days. And you don't need to be in the House to get the job. The Constitution does not require that the speaker be someone currently serving in Congress, but all who have been elected to the post have been House members. Former Secretary of State Colin Powell, Sen. Rand Paul and Sen. Jeff Sessions received votes in the January 2015 election . And two years earlier, David Walker, the former head of the General Accounting Office, received one vote\",\n          \"Over the last six years, the Obama administration has been trying to address global warming\\u00c2\\u00a0with a flurry of rules aimed at reducing US carbon-dioxide emissions. First there were stricter fuel-economy standards for cars and trucks. More recently, the EPA\\u00c2\\u00a0proposed sweeping carbon regulations for coal-fired power plants (known as the \\\"Clean Power Plan\\\").\\n\\nThe overarching goal was to cut US greenhouse-gas emissions 17 percent below 2005 levels by 2020. That, the administration believed, would help advance global climate talks.\\n\\nBut all of Obama's moves so far\\u00c2\\u00a0have been insufficient to get to that 17 percent cut by 2020. As recent analyses from the Rhodium Group and the Clean Air Task Force\\u00c2\\u00a0have argued, the US also needs to reduce methane emissions dramatically to get there:\\n\\nCarbon-dioxide is the biggest greenhouse gas responsible for global warming. But it's not the only one. There's also\\u00c2\\u00a0methane.\\u00c2\\u00a0The US burns a lot of methane \\u00e2\\u0080\\u0094 known as \\\"natural gas\\\" \\u00e2\\u0080\\u0094 for energy. But when methane leaks out of oil and gas wells or pipelines and into the atmosphere, it acts as a potent greenhouse gas. (The White House says it's 25 times as effective at trapping heat as carbon dioxide. Other scientists say 34 times.)\\n\\nIn 2012, the EPA estimated that methane accounted for roughly\\u00c2\\u00a08.7 percent of US greenhouse-gas emissions (though this may be an\\u00c2\\u00a0underestimate). But experts have warned that methane leaks could be poised to grow in the coming years.\\n\\nThanks to the\\u00c2\\u00a0fracking boom, US energy companies have been extracting more and more natural gas from shale formations. On one level, that's good news for climate change: utilities are now burning more natural gas for electricity instead of coal, which means lower carbon-dioxide emissions from power plants.\\n\\nThe problem is that all this new drilling increases the risk of methane leaking into the air \\u00e2\\u0080\\u0094 and those leaks\\u00c2\\u00a0are undermining the climate benefits of the gas boom.\\n\\nIn theory, it should be doable to plug these methane emissions,\\u00c2\\u00a0which can come from leaky pipelines or faulty drilling operations. Many companies already\\u00c2\\u00a0use infrared cameras to detect leaks and plug them. And they have financial incentives to do so \\u00e2\\u0080\\u0094 after all, these companies would rather capture that methane and sell it for money than just have it float off into the air.\\n\\nMany oil and gas companies are already taking steps to detect and plug leaks\\n\\nStill, the White House wants to make sure these leaks really get plugged. So, on Wednesday, it\\u00c2\\u00a0announced a goal of cutting methane emissions from oil and gas operations 45 percent below 2012 levels by 2025.\\n\\nThis would be done through a combination of guidelines for voluntary actions by the industry and a hodgepodge of new regulations\\u00c2\\u00a0crafted by the EPA and other agencies. Some rules would focus on methane leaks from new oil and gas wells. Others would focus on pipelines used to transport the natural gas. The Interior Department is updating standards for drilling on public lands.\\n\\nThe White House noted that the oil and gas industry has already managed to cut methane emissions 16 percent since 1990 through voluntary measures. \\\"Nevertheless,\\\" it added, \\\"emissions from the oil and gas sector are projected to rise more than 25 percent by 2025 without additional steps to lower them.\\\"\\n\\nSome environmental groups said the White House's plan didn't go far enough. For example, the EPA is currently only working on rules to reduce emissions at new oil and gas wells \\u00e2\\u0080\\u0094 and only much later will they work on rules for\\u00c2\\u00a0existing wells, which are by far the biggest source of emissions.\\n\\n\\\"While setting methane standards for the first time is an important step, failing to immediately regulate existing oil and gas equipment nationwide misses 90% of the methane pollution from the industry,\\\" Conrad Schneider of the Clean Air Task Force said in a statement.\\n\\nJayni Hein, policy director at the Institute for Policy Integrity at NYU School of Law, agreed: \\\"EPA's steps announced today would trim the sector's methane releases by about a third. We can and should go farther by regulating existing oil and natural gas sources.\\\"\\n\\nBy contrast, many oil and gas companies don't want new regulations at all \\u00e2\\u0080\\u0094 they argue that the industry is already curbing methane leaks as is.\\u00c2\\u00a0\\\"Emissions will continue to fall as operators innovate and find new ways to capture and deliver more methane to consumers,\\\" said Jack Gerard, head of the American Petroleum Institute, in a statement. \\\"Existing EPA and state regulations are working. Another layer of burdensome requirements could actually slow down industry progress to reduce methane emissions.\\\"\\n\\nMeanwhile, it's worth noting that there are other sources of methane besides oil and gas. In 2012,\\u00c2\\u00a0according to the EPA, roughly 30 percent of methane in the United States came from natural-gas and petroleum operations (though, again, that may be an undercount).\\n\\nObama is relying on voluntary measures for methane in agriculture\\n\\n-- By contrast,\\u00c2\\u00a036 percent of US.methane emissions came from agriculture. The beef and dairy industry is a major contributor here: when cows belch, they produce methane (known as \\\"enteric fermentation\\\"). Other sources include decomposing cow manure, as well as methane from rice cultivation.\\n\\n-- Another\\u00c2\\u00a018 percent came from landfills. When food and other trash decays in a landfill, the organisms that feed on that trash emit methane into the atmosphere.\\n\\nThe Obama administration\\u00c2\\u00a0has been working on steps to cut methane in these areas, too. Back in March, the EPA announced it would come up with standards to reduce methane from all future landfills. It will then solicit public comments on whether to regulate landfills that have already been built.\\n\\nAs for cow burps, however, the administration is relying on purely voluntary measures for now. In June 2014, the EPA unveiled a \\\"partnership\\\" with the dairy industry to speed up the adoption of methane digesters that turn cow dung into energy. The hope is to reduce methane emissions from the dairy sector 25 percent by 2020.\\n\\nFurther reading: Obama has promised to cut US emissions 17% by 2020. Is that still possible?\"\n        ],\n        \"semantic_type\": \"\",\n        \"description\": \"\"\n      }\n    },\n    {\n      \"column\": \"label\",\n      \"properties\": {\n        \"dtype\": \"category\",\n        \"num_unique_values\": 2,\n        \"samples\": [\n          \"REAL\",\n          \"FAKE\"\n        ],\n        \"semantic_type\": \"\",\n        \"description\": \"\"\n      }\n    }\n  ]\n}"
            }
          },
          "metadata": {},
          "execution_count": 5
        }
      ],
      "source": [
        "df.head()"
      ]
    },
    {
      "cell_type": "code",
      "execution_count": null,
      "metadata": {
        "id": "1bbivaSm2fNN",
        "colab": {
          "base_uri": "https://localhost:8080/",
          "height": 206
        },
        "outputId": "0032b1b9-2d85-4808-a02f-a84c75bc7963"
      },
      "outputs": [
        {
          "output_type": "execute_result",
          "data": {
            "text/plain": [
              "      Unnamed: 0                                              title  \\\n",
              "6330        4490  State Department says it can't find emails fro...   \n",
              "6331        8062  The âPâ in PBS Should Stand for âPlutocr...   \n",
              "6332        8622  Anti-Trump Protesters Are Tools of the Oligarc...   \n",
              "6333        4021  In Ethiopia, Obama seeks progress on peace, se...   \n",
              "6334        4330  Jeb Bush Is Suddenly Attacking Trump. Here's W...   \n",
              "\n",
              "                                                   text label  \n",
              "6330  The State Department told the Republican Natio...  REAL  \n",
              "6331  The âPâ in PBS Should Stand for âPlutocr...  FAKE  \n",
              "6332   Anti-Trump Protesters Are Tools of the Oligar...  FAKE  \n",
              "6333  ADDIS ABABA, Ethiopia âPresident Obama conve...  REAL  \n",
              "6334  Jeb Bush Is Suddenly Attacking Trump. Here's W...  REAL  "
            ],
            "text/html": [
              "\n",
              "  <div id=\"df-729d5abc-6378-4cca-b6d1-7136ca27f86f\" class=\"colab-df-container\">\n",
              "    <div>\n",
              "<style scoped>\n",
              "    .dataframe tbody tr th:only-of-type {\n",
              "        vertical-align: middle;\n",
              "    }\n",
              "\n",
              "    .dataframe tbody tr th {\n",
              "        vertical-align: top;\n",
              "    }\n",
              "\n",
              "    .dataframe thead th {\n",
              "        text-align: right;\n",
              "    }\n",
              "</style>\n",
              "<table border=\"1\" class=\"dataframe\">\n",
              "  <thead>\n",
              "    <tr style=\"text-align: right;\">\n",
              "      <th></th>\n",
              "      <th>Unnamed: 0</th>\n",
              "      <th>title</th>\n",
              "      <th>text</th>\n",
              "      <th>label</th>\n",
              "    </tr>\n",
              "  </thead>\n",
              "  <tbody>\n",
              "    <tr>\n",
              "      <th>6330</th>\n",
              "      <td>4490</td>\n",
              "      <td>State Department says it can't find emails fro...</td>\n",
              "      <td>The State Department told the Republican Natio...</td>\n",
              "      <td>REAL</td>\n",
              "    </tr>\n",
              "    <tr>\n",
              "      <th>6331</th>\n",
              "      <td>8062</td>\n",
              "      <td>The âPâ in PBS Should Stand for âPlutocr...</td>\n",
              "      <td>The âPâ in PBS Should Stand for âPlutocr...</td>\n",
              "      <td>FAKE</td>\n",
              "    </tr>\n",
              "    <tr>\n",
              "      <th>6332</th>\n",
              "      <td>8622</td>\n",
              "      <td>Anti-Trump Protesters Are Tools of the Oligarc...</td>\n",
              "      <td>Anti-Trump Protesters Are Tools of the Oligar...</td>\n",
              "      <td>FAKE</td>\n",
              "    </tr>\n",
              "    <tr>\n",
              "      <th>6333</th>\n",
              "      <td>4021</td>\n",
              "      <td>In Ethiopia, Obama seeks progress on peace, se...</td>\n",
              "      <td>ADDIS ABABA, Ethiopia âPresident Obama conve...</td>\n",
              "      <td>REAL</td>\n",
              "    </tr>\n",
              "    <tr>\n",
              "      <th>6334</th>\n",
              "      <td>4330</td>\n",
              "      <td>Jeb Bush Is Suddenly Attacking Trump. Here's W...</td>\n",
              "      <td>Jeb Bush Is Suddenly Attacking Trump. Here's W...</td>\n",
              "      <td>REAL</td>\n",
              "    </tr>\n",
              "  </tbody>\n",
              "</table>\n",
              "</div>\n",
              "    <div class=\"colab-df-buttons\">\n",
              "\n",
              "  <div class=\"colab-df-container\">\n",
              "    <button class=\"colab-df-convert\" onclick=\"convertToInteractive('df-729d5abc-6378-4cca-b6d1-7136ca27f86f')\"\n",
              "            title=\"Convert this dataframe to an interactive table.\"\n",
              "            style=\"display:none;\">\n",
              "\n",
              "  <svg xmlns=\"http://www.w3.org/2000/svg\" height=\"24px\" viewBox=\"0 -960 960 960\">\n",
              "    <path d=\"M120-120v-720h720v720H120Zm60-500h600v-160H180v160Zm220 220h160v-160H400v160Zm0 220h160v-160H400v160ZM180-400h160v-160H180v160Zm440 0h160v-160H620v160ZM180-180h160v-160H180v160Zm440 0h160v-160H620v160Z\"/>\n",
              "  </svg>\n",
              "    </button>\n",
              "\n",
              "  <style>\n",
              "    .colab-df-container {\n",
              "      display:flex;\n",
              "      gap: 12px;\n",
              "    }\n",
              "\n",
              "    .colab-df-convert {\n",
              "      background-color: #E8F0FE;\n",
              "      border: none;\n",
              "      border-radius: 50%;\n",
              "      cursor: pointer;\n",
              "      display: none;\n",
              "      fill: #1967D2;\n",
              "      height: 32px;\n",
              "      padding: 0 0 0 0;\n",
              "      width: 32px;\n",
              "    }\n",
              "\n",
              "    .colab-df-convert:hover {\n",
              "      background-color: #E2EBFA;\n",
              "      box-shadow: 0px 1px 2px rgba(60, 64, 67, 0.3), 0px 1px 3px 1px rgba(60, 64, 67, 0.15);\n",
              "      fill: #174EA6;\n",
              "    }\n",
              "\n",
              "    .colab-df-buttons div {\n",
              "      margin-bottom: 4px;\n",
              "    }\n",
              "\n",
              "    [theme=dark] .colab-df-convert {\n",
              "      background-color: #3B4455;\n",
              "      fill: #D2E3FC;\n",
              "    }\n",
              "\n",
              "    [theme=dark] .colab-df-convert:hover {\n",
              "      background-color: #434B5C;\n",
              "      box-shadow: 0px 1px 3px 1px rgba(0, 0, 0, 0.15);\n",
              "      filter: drop-shadow(0px 1px 2px rgba(0, 0, 0, 0.3));\n",
              "      fill: #FFFFFF;\n",
              "    }\n",
              "  </style>\n",
              "\n",
              "    <script>\n",
              "      const buttonEl =\n",
              "        document.querySelector('#df-729d5abc-6378-4cca-b6d1-7136ca27f86f button.colab-df-convert');\n",
              "      buttonEl.style.display =\n",
              "        google.colab.kernel.accessAllowed ? 'block' : 'none';\n",
              "\n",
              "      async function convertToInteractive(key) {\n",
              "        const element = document.querySelector('#df-729d5abc-6378-4cca-b6d1-7136ca27f86f');\n",
              "        const dataTable =\n",
              "          await google.colab.kernel.invokeFunction('convertToInteractive',\n",
              "                                                    [key], {});\n",
              "        if (!dataTable) return;\n",
              "\n",
              "        const docLinkHtml = 'Like what you see? Visit the ' +\n",
              "          '<a target=\"_blank\" href=https://colab.research.google.com/notebooks/data_table.ipynb>data table notebook</a>'\n",
              "          + ' to learn more about interactive tables.';\n",
              "        element.innerHTML = '';\n",
              "        dataTable['output_type'] = 'display_data';\n",
              "        await google.colab.output.renderOutput(dataTable, element);\n",
              "        const docLink = document.createElement('div');\n",
              "        docLink.innerHTML = docLinkHtml;\n",
              "        element.appendChild(docLink);\n",
              "      }\n",
              "    </script>\n",
              "  </div>\n",
              "\n",
              "\n",
              "<div id=\"df-89286254-6ed6-4963-a3aa-53ce074302bd\">\n",
              "  <button class=\"colab-df-quickchart\" onclick=\"quickchart('df-89286254-6ed6-4963-a3aa-53ce074302bd')\"\n",
              "            title=\"Suggest charts\"\n",
              "            style=\"display:none;\">\n",
              "\n",
              "<svg xmlns=\"http://www.w3.org/2000/svg\" height=\"24px\"viewBox=\"0 0 24 24\"\n",
              "     width=\"24px\">\n",
              "    <g>\n",
              "        <path d=\"M19 3H5c-1.1 0-2 .9-2 2v14c0 1.1.9 2 2 2h14c1.1 0 2-.9 2-2V5c0-1.1-.9-2-2-2zM9 17H7v-7h2v7zm4 0h-2V7h2v10zm4 0h-2v-4h2v4z\"/>\n",
              "    </g>\n",
              "</svg>\n",
              "  </button>\n",
              "\n",
              "<style>\n",
              "  .colab-df-quickchart {\n",
              "      --bg-color: #E8F0FE;\n",
              "      --fill-color: #1967D2;\n",
              "      --hover-bg-color: #E2EBFA;\n",
              "      --hover-fill-color: #174EA6;\n",
              "      --disabled-fill-color: #AAA;\n",
              "      --disabled-bg-color: #DDD;\n",
              "  }\n",
              "\n",
              "  [theme=dark] .colab-df-quickchart {\n",
              "      --bg-color: #3B4455;\n",
              "      --fill-color: #D2E3FC;\n",
              "      --hover-bg-color: #434B5C;\n",
              "      --hover-fill-color: #FFFFFF;\n",
              "      --disabled-bg-color: #3B4455;\n",
              "      --disabled-fill-color: #666;\n",
              "  }\n",
              "\n",
              "  .colab-df-quickchart {\n",
              "    background-color: var(--bg-color);\n",
              "    border: none;\n",
              "    border-radius: 50%;\n",
              "    cursor: pointer;\n",
              "    display: none;\n",
              "    fill: var(--fill-color);\n",
              "    height: 32px;\n",
              "    padding: 0;\n",
              "    width: 32px;\n",
              "  }\n",
              "\n",
              "  .colab-df-quickchart:hover {\n",
              "    background-color: var(--hover-bg-color);\n",
              "    box-shadow: 0 1px 2px rgba(60, 64, 67, 0.3), 0 1px 3px 1px rgba(60, 64, 67, 0.15);\n",
              "    fill: var(--button-hover-fill-color);\n",
              "  }\n",
              "\n",
              "  .colab-df-quickchart-complete:disabled,\n",
              "  .colab-df-quickchart-complete:disabled:hover {\n",
              "    background-color: var(--disabled-bg-color);\n",
              "    fill: var(--disabled-fill-color);\n",
              "    box-shadow: none;\n",
              "  }\n",
              "\n",
              "  .colab-df-spinner {\n",
              "    border: 2px solid var(--fill-color);\n",
              "    border-color: transparent;\n",
              "    border-bottom-color: var(--fill-color);\n",
              "    animation:\n",
              "      spin 1s steps(1) infinite;\n",
              "  }\n",
              "\n",
              "  @keyframes spin {\n",
              "    0% {\n",
              "      border-color: transparent;\n",
              "      border-bottom-color: var(--fill-color);\n",
              "      border-left-color: var(--fill-color);\n",
              "    }\n",
              "    20% {\n",
              "      border-color: transparent;\n",
              "      border-left-color: var(--fill-color);\n",
              "      border-top-color: var(--fill-color);\n",
              "    }\n",
              "    30% {\n",
              "      border-color: transparent;\n",
              "      border-left-color: var(--fill-color);\n",
              "      border-top-color: var(--fill-color);\n",
              "      border-right-color: var(--fill-color);\n",
              "    }\n",
              "    40% {\n",
              "      border-color: transparent;\n",
              "      border-right-color: var(--fill-color);\n",
              "      border-top-color: var(--fill-color);\n",
              "    }\n",
              "    60% {\n",
              "      border-color: transparent;\n",
              "      border-right-color: var(--fill-color);\n",
              "    }\n",
              "    80% {\n",
              "      border-color: transparent;\n",
              "      border-right-color: var(--fill-color);\n",
              "      border-bottom-color: var(--fill-color);\n",
              "    }\n",
              "    90% {\n",
              "      border-color: transparent;\n",
              "      border-bottom-color: var(--fill-color);\n",
              "    }\n",
              "  }\n",
              "</style>\n",
              "\n",
              "  <script>\n",
              "    async function quickchart(key) {\n",
              "      const quickchartButtonEl =\n",
              "        document.querySelector('#' + key + ' button');\n",
              "      quickchartButtonEl.disabled = true;  // To prevent multiple clicks.\n",
              "      quickchartButtonEl.classList.add('colab-df-spinner');\n",
              "      try {\n",
              "        const charts = await google.colab.kernel.invokeFunction(\n",
              "            'suggestCharts', [key], {});\n",
              "      } catch (error) {\n",
              "        console.error('Error during call to suggestCharts:', error);\n",
              "      }\n",
              "      quickchartButtonEl.classList.remove('colab-df-spinner');\n",
              "      quickchartButtonEl.classList.add('colab-df-quickchart-complete');\n",
              "    }\n",
              "    (() => {\n",
              "      let quickchartButtonEl =\n",
              "        document.querySelector('#df-89286254-6ed6-4963-a3aa-53ce074302bd button');\n",
              "      quickchartButtonEl.style.display =\n",
              "        google.colab.kernel.accessAllowed ? 'block' : 'none';\n",
              "    })();\n",
              "  </script>\n",
              "</div>\n",
              "\n",
              "    </div>\n",
              "  </div>\n"
            ],
            "application/vnd.google.colaboratory.intrinsic+json": {
              "type": "dataframe",
              "summary": "{\n  \"name\": \"df\",\n  \"rows\": 5,\n  \"fields\": [\n    {\n      \"column\": \"Unnamed: 0\",\n      \"properties\": {\n        \"dtype\": \"number\",\n        \"std\": 2239,\n        \"min\": 4021,\n        \"max\": 8622,\n        \"num_unique_values\": 5,\n        \"samples\": [\n          8062,\n          4330,\n          8622\n        ],\n        \"semantic_type\": \"\",\n        \"description\": \"\"\n      }\n    },\n    {\n      \"column\": \"title\",\n      \"properties\": {\n        \"dtype\": \"string\",\n        \"num_unique_values\": 5,\n        \"samples\": [\n          \"The \\u00e2\\u0080\\u0098P\\u00e2\\u0080\\u0099 in PBS Should Stand for \\u00e2\\u0080\\u0098Plutocratic\\u00e2\\u0080\\u0099 or \\u00e2\\u0080\\u0098Pentagon\\u00e2\\u0080\\u0099\",\n          \"Jeb Bush Is Suddenly Attacking Trump. Here's Why That Matters\",\n          \"Anti-Trump Protesters Are Tools of the Oligarchy     : Information\"\n        ],\n        \"semantic_type\": \"\",\n        \"description\": \"\"\n      }\n    },\n    {\n      \"column\": \"text\",\n      \"properties\": {\n        \"dtype\": \"string\",\n        \"num_unique_values\": 5,\n        \"samples\": [\n          \"The \\u00e2\\u0080\\u0098P\\u00e2\\u0080\\u0099 in PBS Should Stand for \\u00e2\\u0080\\u0098Plutocratic\\u00e2\\u0080\\u0099 or \\u00e2\\u0080\\u0098Pentagon\\u00e2\\u0080\\u0099 Posted on Oct 27, 2016 ( WikiMedia ) \\nIn a television commercial that the Public Broadcasting System (PBS) ran for years, \\u00e2\\u0080\\u009cPBS NewsHour\\u00e2\\u0080\\u009d host Gwen Ifill declared that she loved her job because it allowed her to \\u00e2\\u0080\\u009cask not only all of my questions but also and more importantly all of your questions .\\u00e2\\u0080\\u009d This assertion was and remains absurd, just like her network\\u00e2\\u0080\\u0099s regular fundraising claim to be free of corporate sponsors. \\nThe claim has long been contradicted by the string of corporate-image commercials (purchased by leading financial, defense, auto, insurance and rail corporations) that appear before the network\\u00e2\\u0080\\u0099s nightly \\u00e2\\u0080\\u009cNewsHour\\u00e2\\u0080\\u009d broadcast\\u00e2\\u0080\\u0094along with a list of corporate-sponsored foundations and superwealthy individuals who pay for the show, along with \\u00e2\\u0080\\u009cregular viewers like you.\\u00e2\\u0080\\u009d \\nConsistent with those commercials and despite its name, the news and commentary one finds on PBS is in rich tune with the narrow capitalist parameters of acceptable coverage and debate that typify the more fully and explicitly for-profit and commercialized corporate media. As progressive journalist David Sirota suggested two years ago , reflecting on recent investigations showing that supermoneyed, right-wing capitalists such as the Koch brothers and Texas billionaire John Arnold had (along with more liberal software mogul Bill Gates) influenced PBS content through multimillion-dollar donations, the \\u00e2\\u0080\\u009cP\\u00e2\\u0080\\u009d in PBS often seems to more properly stand for \\u00e2\\u0080\\u009cPlutocratic,\\u00e2\\u0080\\u009d not \\u00e2\\u0080\\u009cPublic.\\u00e2\\u0080\\u009d \\nAdvertisement Square, Site wide \\nNone of this should be surprising to anyone familiar with the distinctively big-business-dominated history of U.S. broadcast media . Because the United States fails to provide anything like adequate funding for public broadcasting, both PBS and National Public Radio (a regular vehicle for neoliberal business ideology) depend upon foundations, corporations and wealthy individuals to pay for much of their programming. Beneath their standard claims to have no interest in shaping public media content, these private funders have bottom-line agendas, meaning that their contributions come with strings attached\\u00e2\\u0080\\u0094strings that undermine the integrity of the \\u00e2\\u0080\\u009cindependent\\u00e2\\u0080\\u009d journalism they bankroll. (For what it\\u00e2\\u0080\\u0099s worth, between 1994 and 2014, the \\u00e2\\u0080\\u009cNewsHour\\u00e2\\u0080\\u009d was primarily owned by the for-profit firm Liberty Media . Liberty Media was run by the conservative and politically active billionaire John Malone, who had a majority stake in MacNeil/Lehrer Productions, the show\\u00e2\\u0080\\u0099s producer.) \\nThe Pentagon Broadcasting System? \\nWhat might seem more surprising, perhaps, is the remarkable extent to which the \\u00e2\\u0080\\u009cP\\u00e2\\u0080\\u009d in PBS often seems to stand for \\u00e2\\u0080\\u009cPentagon,\\u00e2\\u0080\\u009d or perhaps \\u00e2\\u0080\\u009cPresidential,\\u00e2\\u0080\\u009d when it comes to foreign policy content. Whatever the global issue of the day or week, \\u00e2\\u0080\\u009cNewsHour\\u00e2\\u0080\\u009d anchors and their invited \\u00e2\\u0080\\u009cexperts\\u00e2\\u0080\\u009d can be counted on to report and reflect in accord with the doctrinal assumption that Washington always operates with the best of intentions. They almost uniformly treat the U.S. as a great, benevolent and indispensable force for freedom, democracy, security, peace and order in a dangerous world full of evil and deadly actors. \\nThe show\\u00e2\\u0080\\u0099s invited commentators are drawn primarily from the nation\\u00e2\\u0080\\u0099s imperial establishment. They are commonly current or retired insiders from within the Pentagon, the White House, the \\u00e2\\u0080\\u009cintelligence community\\u00e2\\u0080\\u009d and/or the nation\\u00e2\\u0080\\u0099s elite network of foreign policy think tanks: the Council on Foreign Relations (the granddaddy of all U.S. ruling-class think tanks ), the Carnegie Endowment for International Peace, the Aspen Institute, the Atlantic Council, the Rand Corp. and the Hoover Institution, to name a handful. \\u00e2\\u0080\\u009cNewsHour\\u00e2\\u0080\\u009d anchors and guests generally agree that the United States\\u00e2\\u0080\\u0099 officially designated enemies are malevolent bad guys who need to be contained, controlled and even attacked by the ultimate good guy, Uncle Sam. \\nNot surprisingly, the long and ongoing record of U.S. imperial arrogance and criminality (more on that below) is swept down George Orwell\\u00e2\\u0080\\u0099s memory hole even as new entries are added to the ugly registry. When reported by the \\u00e2\\u0080\\u009cNewsHour,\\u00e2\\u0080\\u009d horrific crimes committed by the U.S. military are always treated as well-intended mistakes. Along with the rest of the mainstream U.S. media, the \\u00e2\\u0080\\u009cNewsHour\\u00e2\\u0080\\u009d \\u00e2\\u0080\\u009cinsist[s] that Russia deliberately bombs hospitals, etc., whereas if we do it, it is, of course, an accident .\\u00e2\\u0080\\u009d \\nThere\\u00e2\\u0080\\u0099s some room for disagreement between and among the show\\u00e2\\u0080\\u0099s invited experts\\u00e2\\u0080\\u0094including the show\\u00e2\\u0080\\u0099s semi-loopy foreign policy authority, Margaret Warner\\u00e2\\u0080\\u0094about specific U.S. foreign policy tactics, strategies and actions. There\\u00e2\\u0080\\u0099s no space for serious debate about the immorality, lawlessness or imperial nature of that policy. On the rare occasions \\u00e2\\u0080\\u009cNewsHour\\u00e2\\u0080\\u009d anchors seem to challenge guests from the White House or Pentagon on foreign policy matters, it is generally to ask why the U.S. isn\\u00e2\\u0080\\u0099t going harder at the officially certified bad guys. \\nAmerica as Umpire, Not Empire \\nThe foreign policy coverage and commentary doesn\\u00e2\\u0080\\u0099t get much better in the documentary division of PBS. A recent documentary (first aired nationally last week) shown by PBS bears the risible title \\u00e2\\u0080\\u009cAmerican Umpire\\u00e2\\u0080\\u009d\\u00e2\\u0080\\u0094an obvious World Series season play on what the filmmakers see as the preposterous notion of an American empire. It is narrated by ex-Marine and former \\u00e2\\u0080\\u009cNewsHour\\u00e2\\u0080\\u009d host and producer Jim Lehrer. Developed by the right-wing Hoover Institution and \\u00e2\\u0080\\u009ctargeted for PBS\\u00e2\\u0080\\u009d (the organization\\u00e2\\u0080\\u0099s own revealing phrase), \\u00e2\\u0080\\u009cAmerican Umpire\\u00e2\\u0080\\u009d takes the doctrinal \\u00e2\\u0080\\u009cAmerican exceptionalist,\\u00e2\\u0080\\u009d U.S.-good-and-civilized-rest-of-world-dangerous-and-bad narrative to absurd lengths. \\nIt provides extensive \\u00e2\\u0080\\u009cexpert\\u00e2\\u0080\\u009d commentary from such former imperial operatives as Madeline Albright (the onetime U.S. secretary of state who led the charge to criminally bomb Serbia and who went on CBS\\u00e2\\u0080\\u0099 \\u00e2\\u0080\\u009c60 Minutes\\u00e2\\u0080\\u009d to say that the death of more than half a million Iraqi children killed by Washington-led \\u00e2\\u0080\\u009ceconomic sanctions\\u00e2\\u0080\\u009d was \\u00e2\\u0080\\u009ca price worth paying\\u00e2\\u0080\\u009d for the advance of U.S. foreign policy goals), Condoleezza Rice (George W. Bush\\u00e2\\u0080\\u0099s neoconservative national security adviser before and during the arch-criminal U.S. invasion of Iraq), Gen. Jim \\u00e2\\u0080\\u009cMad Dog\\u00e2\\u0080\\u009d Mattis (an Iraq invasion commander and a former chief of the U.S. Central Command, who two years ago told a San Diego audience that \\u00e2\\u0080\\u009cit\\u00e2\\u0080\\u0099s fun to shoot people\\u00e2\\u0080\\u009d), George Schultz (the Reagan-era secretary of state who called the Sandinista government in Nicaragua \\u00e2\\u0080\\u009ca cancer in our own land mass\\u00e2\\u0080\\u009d that must be \\u00e2\\u0080\\u009ccut out\\u00e2\\u0080\\u009d) and Karl Eikenberry (a retired Army lieutenant general who commanded U.S. forces in Afghanistan 10 years ago). \\nWith further commentary from a handful of mostly conservative academicians\\u00e2\\u0080\\u0094above all the nationalist Texas A&M historian Elizabeth Cobbs ( author of a book on which the documentary is based), \\u00e2\\u0080\\u009cAmerican Umpire\\u00e2\\u0080\\u009d portrays 20th and 21st century U.S. foreign policy as nothing more than a noble effort to selflessly provide welcome and fair rules and discipline on the rest of a childish, dangerous and reckless planet (think \\u00e2\\u0080\\u009cLord of the Flies\\u00e2\\u0080\\u009d) that lacks the exceptional historical experience bequeathed to U.S. leaders by the nation\\u00e2\\u0080\\u0099s far-seeing Founding Fathers. The only substantive criticism of U.S. foreign policy in \\u00e2\\u0080\\u009cAmerican Umpire\\u00e2\\u0080\\u009d is the complaint, voiced by numerous interview subjects, that America harms itself to the benefit of others (the Europeans above all) by taking upon its shoulders too much of the burden of benevolently policing the planet. We are just too good for our own good. \\nOur Real Task \\nThere is not space here to discuss in responsible detail the epic historical deletions and distortions this narrative imposes. The omissions are staggering. They range from the slaughter of hundreds of thousands of Filipinos resisting U.S. imperial invasion and occupation at the last century\\u00e2\\u0080\\u0099s outset to the restoration of de facto slavery in Haiti and the Dominican Republic after World War I; the unnecessary atom bombing of Hiroshima and, even worse, of Nagasaki (really the first shots of the Cold War ); the toppling of more than 50 governments by U.S. coups and invasions since the end of World War II; the liquidation of perhaps as many as 5 million Southeast Asians in the so-called Vietnam War between 1962 and 1975; the Cold War-era sponsorship of Third World fascism from Chile to South Africa and Indonesia; the attempted assassinations of Fidel Castro and numerous CIA-directed terror bombings in socialist Cuba; the near instigation of global thermonuclear war on at least three occasions; the development and sponsorship of Osama bin Laden and other radically arch-reactionary, jihadist Muslim, paramilitary forces to fight the Cold War against the Soviet Union in Afghanistan; the \\u00e2\\u0080\\u009cHighway of Death,\\u00e2\\u0080\\u009d when U.S. warplanes engaged in an aerial traffic jam as they rushed to slaughter tens of thousands of surrendered Iraqi troops retreating from Iraq in 1991; the coordination and sponsorship of a mass-murderous civil war on peasants, workers and intellectuals (with a death toll well into the many hundreds of thousands) in Central America during the 1970s and 1980s; the disastrous U.S. invasion of Iraq (responsible for at least 1 million Iraqi deaths); the calamitous U.S. toppling of the Libyan Gadhafi regime; the calamitous destabilization of the Syrian regime; the U.S. funding and encouragement of civil war in central Africa; the enablement and protection of a vicious right-wing coup in Honduras in the spring and summer of 2009; the criminal U.S. global war of terror, replete with rampant \\u00e2\\u0080\\u009ctargeted assassinations,\\u00e2\\u0080\\u009d torture, illegal renditions, endless drone war and special-forces killing operations across the Muslim world and other places as well. \\n\\u00e2\\u0080\\u009cAmerican Umpire\\u00e2\\u0080\\u009d hides these horrific transgressions and the imperial calculations behind much of U.S. foreign policy past and present. As numerous key U.S. planning documents reveal over and over, the goal of that policy was to maintain and, if necessary, install governments that \\u00e2\\u0080\\u009cfavor[ed] private investment of domestic and foreign capital, production for export, and the right to bring profits out of the country.\\u00e2\\u0080\\u009d Given the United States\\u00e2\\u0080\\u0099 remarkable possession of half the world\\u00e2\\u0080\\u0099s capital after World War II, Washington elites had no doubt that U.S. investors and corporations would profit the most. Internally, the basic, selfish, national and imperial objectives were openly and candidly discussed. As the \\u00e2\\u0080\\u009cliberal\\u00e2\\u0080\\u009d and \\u00e2\\u0080\\u009cdovish\\u00e2\\u0080\\u009d imperialist, top State Department planner and key Cold War architect George F. Kennan explained in Policy Planning Study 23, a critical 1948 document: \\u00e2\\u0080\\u009cWe have about 50% of the world\\u00e2\\u0080\\u0099s wealth, but only 6.3% of its population. \\u00e2\\u0080\\u00a6 In this situation, we cannot fail to be the object of envy and resentment. Our real task in the coming period is to devise a pattern of relationships which will permit us to maintain this position of disparity. \\u00e2\\u0080\\u00a6 To do so, we will have to dispense with all sentimentality and day-dreaming. ... The less we are then hampered by idealistic slogans, the better.\\u00e2\\u0080\\u009d \\nThe necessity of dispensing with \\u00e2\\u0080\\u009chuman rights\\u00e2\\u0080\\u009d and other \\u00e2\\u0080\\u009csentimental\\u00e2\\u0080\\u009d and \\u00e2\\u0080\\u009cunreal objectives\\u00e2\\u0080\\u009d was especially pressing in the \\u00e2\\u0080\\u009cglobal south.\\u00e2\\u0080\\u009d Washington assigned the vast periphery of the world economic (capitalist) system\\u00e2\\u0080\\u0094Africa, Latin America, Southeast Asia and the energy-rich and thus strategically hypersignificant Middle East\\u00e2\\u0080\\u0094a less than flattering role. It was to \\u00e2\\u0080\\u009cfulfill its major function as a source of raw materials and a market\\u00e2\\u0080\\u009d ( actual State Department language ) for the great industrial (capitalist) nations (excluding \\u00e2\\u0080\\u009csocialist\\u00e2\\u0080\\u009d Russia and its satellites). It was to be exploited both for the benefit of U.S. corporations/investors and for the reconstruction of Europe and Japan as prosperous U.S. trading and investment partners organized on properly capitalist principles that were hostile to the Soviet bloc. \\n\\u00e2\\u0080\\u009cDemocracy\\u00e2\\u0080\\u009d was fine as a slogan and benevolent, idealistic-sounding mission statement when it came to marketing this core, underlying, ultra-imperialist U.S. policy at home and abroad. Because most people in the \\u00e2\\u0080\\u009cThird World\\u00e2\\u0080\\u009d had no interest in neocolonial subordination and subscribed to what U.S. intelligence officials considered the heretical \\u00e2\\u0080\\u009cidea that government has direct responsibility for the welfare of its people\\u00e2\\u0080\\u009d (what post-World War II U.S. planners called \\u00e2\\u0080\\u009ccommunism\\u00e2\\u0080\\u009d), Washington\\u00e2\\u0080\\u0099s real-life commitment to popular governance abroad was strictly qualified, to say the least. \\u00e2\\u0080\\u009cDemocracy\\u00e2\\u0080\\u009d was suitable to the U.S. as long as its outcomes comported with the interests of U.S. investors/corporations and related U.S. geopolitical objectives. It had to be abandoned, undermined and/or crushed when it threatened those investors/corporations and the broader imperatives of business rule to any significant degree. As President Richard Nixon\\u00e2\\u0080\\u0099s coldblooded National Security Adviser Henry Kissinger explained in June 1970, three years before the U.S. sponsored a fascist coup that overthrew Chile\\u00e2\\u0080\\u0099s democratically elected leftist President Salvador Allende, \\u00e2\\u0080\\u009cI don\\u00e2\\u0080\\u0099t see why we need to stand by and watch a country go Communist because of the irresponsibility of its own people.\\u00e2\\u0080\\u009d \\nThe selfish imperial cynicism of U.S. foreign policy continues to this day, into the post-Cold War and post-9/11 era. As leading Dutch political scientists Bastiaann van Apeldoorn and Nana de Graaff write in their important new volume , \\u00e2\\u0080\\u009cAmerican Grand Strategy and Corporate Elite Networks: The Open Door Since the End of the Cold War,\\u00e2\\u0080\\u009d \\u00e2\\u0080\\u009cFrom the end of the 19th nineteenth century onward, American grand strategy has pursued a liberal expansionism aimed at the creation of a global hegemony premised upon open, \\u00e2\\u0080\\u009cfree\\u00e2\\u0080\\u009d markets, to which global capital\\u00e2\\u0080\\u0094and, above all, U.S. transnational capital\\u00e2\\u0080\\u0094has full access. \\u00e2\\u0080\\u00a6 The global Open Door has continued to define the ends of the American grand strategy throughout the post-Cold War era.\\u00e2\\u0080\\u009d Because\\u00e2\\u0080\\u0094as during and before\\u00e2\\u0080\\u0094the Cold War\\u00e2\\u0080\\u0099s end, Washington\\u00e2\\u0080\\u0099s commitment to \\u00e2\\u0080\\u009cdemocracy\\u00e2\\u0080\\u009d and \\u00e2\\u0080\\u009chuman rights\\u00e2\\u0080\\u009d is conditional and hypocritical: The noble principles are fine insofar as they serve the free-market hegemony of global and especially U.S. transnational capital. They are dispensed with, even as U.S. policymakers trumpet them, when they do not.\",\n          \"Jeb Bush Is Suddenly Attacking Trump. Here's Why That Matters\\n\\nJeb Bush isn't pulling punches anymore when it comes to Donald Trump.\\n\\nThe former Florida governor has delicately danced around the billionaire businessman in the 2016 presidential primary so far. But the gloves came off this week when Bush called out Trump as a closet Democrat. He was trying to stunt Trump's rise while attempting to recover his own political mojo.\\n\\n\\\"What Jeb is desperately trying to do is find his swagger right now,\\\" GOP strategist Ford O'Connell said. \\\"The knock against Jeb is that he's low voltage and not willing to fight. The best way to shake those perceptions it to engage against the person who is in the media on a 24/7 loop.\\\"\\n\\nIt's a change from Bush's approach to this point. He hasn't lobbed many direct attacks at Trump other than delicately condemning his criticism of Arizona Sen. John McCain's war service and his attacks against Fox News' Megyn Kelly.\\n\\nEven in this month's first debate, Bush swatted down a story that he had allegedly called Trump a \\\"buffoon\\\" and a \\\"clown,\\\" saying only that Trump's language had been \\\"divisive.\\\" Trump called Bush \\\"a true gentleman.\\\"\\n\\nThe detente ended this week. So far, most of the top-tier candidates have avoided directly attacking Trump, treating him with kid gloves so as not to anger the part of the GOP base to which Trump appeals.\\n\\nIn other words, the very voters they need when, they hope, Trump fades.\\n\\nIn split-screen New Hampshire town halls this week, Bush and Trump volleyed attacks on each other. Bush took his most pointed jabs at the current front-runner, underscoring Trump's past history as a Democrat and the liberal positions he used to hold.\\n\\n\\\"Mr. Trump doesn't have a proven conservative record,\\\" Bush said, according to the Washington Post. \\\"He was a Democrat longer in the last decade than he was a Republican. He has given more money to Democrats than he's given to Republicans.\\\"\\n\\nBush went on to attack Trump over his hard-line immigration proposal, arguing it was not just \\\"vitriolic\\\" but would have a massive price tag.\\n\\n\\\"Hundreds of billions of dollars of costs to implement his plans is not a conservative plan,\\\" Bush said. \\\"This is going to be my pitch: Let's support someone who you don't have to guess where he stands because he's consistent, because he's been governor, he's consistently had the views that he has.\\\"\\n\\nOver the next few days, Bush continued the hits on social media.\\n\\nBut Trump, never one to miss a moment to retaliate, didn't pull his punches, either. At his own town hall Wednesday, Trump blasted Bush as an unelectable \\\"low-energy person.\\\"\\n\\n\\\"You know what's happening to Jeb's crowd just down the street? They're sleeping!\\\" Trump said to applause.\\n\\nSince then, Trump has also ramped up his attacks against Bush on Twitter.\\n\\nThe move to more hot rhetoric may have tripped Bush up, though. Consider his use of the phrase \\\"anchor babies.\\\" While immigration reform is something Bush is passionate about \\u00e2\\u0080\\u0094 and has even written a book about \\u00e2\\u0080\\u0094 he's often criticized within the GOP as too liberal on the issue. Instead, a more combative Bush appeared to use the loaded phrase for the first time.\\n\\nHe was left struggling to defend his use of it. It may have been a signal that the attack-dog crouch he's taking is still one that isn't completely comfortable to Bush, who earlier said he wanted to campaign \\\"joyfully.\\\"\\n\\nOther candidates have embraced hitting Trump. Kentucky Sen. Rand Paul went after him forcefully in the debate, though his punch \\u00e2\\u0080\\u0094 that Trump was hedging his bets to support Hillary Clinton if she wins the presidency \\u00e2\\u0080\\u0094 didn't appear to land.\\n\\nOther candidates like Ohio Gov. John Kasich demurred. In the earlier GOP debate that night, former Texas Gov. Rick Perry and businesswoman Carly Fiorina also jabbed at Trump.\\n\\nBush, though, needs to close the floodgates. He's dropped in national polls as Trump has risen. And, in New Hampshire, where Bush once led, Trump and even newcomer Kasich have seen surges.\\n\\nCullen, a former New Hampshire GOP chairman, said the change in tone and tactics was a smart move for Bush, one that could help him in the Granite State.\\n\\n\\\"I think it's good politics for Jeb,\\\" said Fergus Cullen, a former New Hampshire Republican Party chairman. \\\"There's 25 percent of the Republicans who are entertained by Donald Trump. But there's 60 percent of the party who say they won't vote for him under any circumstances. Those aren't Jeb Bush's people to begin with. He's trying to appeal to the other 60 percent by being the adult in the room and trying to govern.\\\"\\n\\nO'Connell agreed. He pointed out that even if this new approach is one that's uncomfortable for Bush, it's necessary.\\n\\n\\\"In a lot of elections, being the studious one would have worked,\\\" he said, \\\"but Trump has flipped the script.\\\"\",\n          \" Anti-Trump Protesters Are Tools of the Oligarchy \\u00c2\\u0093Reform always provokes rage on the part of those who profit by the old order.\\u00c2\\u0094 Arthur M. Schlesinger, Jr., The Crisis of the Old Order\\nBy Paul Craig Roberts\\n Who are the anti-Trump protesters besmirching the name of progressives by pretending to be progressives and by refusing to accept the outcome of the presidential election? They look like, and are acting worse than, the \\u00c2\\u0093white trash\\u00c2\\u0094 that they are denouncing.\\nI think I know who they are. They are thugs for hire and are paid by the Oligarchy to delegitimize Trump\\u00c2\\u0092s presidency in the way that Washington and the German Marshall Fund paid students in Kiev to protest the democratically elected Ukrainian government in order to prepare the way for a coup.\\nThe organization, change.org, which claims to be a progressive group, but might be a front, along with other progressive groups, for the Oligarchy, is destroying the reputation of all progressives by circulating a petition that directs the electors of the Electoral Collage to annul the election by casting their votes for Hillary. Remember how upset progressives were when Trump said he might not accept the election result if there was evidence that the vote was rigged? Now progressives are doing what they damned Trump for saying he might do under certain conditions.\\nThe Western presstitutes used the protests in Kiev to delegitimize a democratically elected government and to set it up for a coup. The protest pay was good enough that non-Ukrainians came from nearby countries to participate in the protest in order to collect the money. At the time I posted the amounts paid daily to protesters. Reports came in to me from Eastern and Western Europe from people who were not Ukrainian but were paid to protest as if they were Ukrainians.\\nThe same thing is going on with the Trump protests. CNN reports that \\u00c2\\u0093for many Americans across the country, Donald Trump\\u00c2\\u0092s victory is an outcome they simply refuse to accept. Tens of thousands filled the streets in at least 25 US cities overnight.\\u00c2\\u0094 This is the exact reporting that the Oligarchy desired from its presstitutes and got.\\nI hope no one thinks that simultaneous protests in 25 cities were a spontaneous event. How did 25 independent protests manage to come up with the same slogans and the same signs on the same night following the election?\\nWhat is the point of the protests, and what interest is served by them? As the Romans always asked, \\u00c2\\u0093who benefits?\\u00c2\\u0094\\nThere is only one answer: The Oligarchy and only the Oligarchy benefits.\\nTrump is a threat to the Oligarchy, because he intends to stop the giveaway of American jobs to foreigners. The jobs giveaway, sanctified by the neoliberal junk economists as \\u00c2\\u0093free trade,\\u00c2\\u0094 is one of the main reasons for the 21st century worsening of the US income distribution. Money that was formerly paid in middle class wages and salaries to American manufacturing employees and college graduates has been re-routed to the pockets of the One Percent.\\nWhen US corporations move their production of goods and services sold to Americans offshore to Asian countries, such as China and India, their wage bill falls. The money formerly paid in middle class incomes goes instead into executive bonuses and dividends and capital gains to shareholders. The ladders of upward mobility that had made America the land of opportunity were dismantled for the sole purpose of making a handful of people multi-billionaires.\\nTrump is a threat to the Oligarchy, because he intends peaceful relations with Russia. In order to replace the profitable Soviet Threat, the Oligarchy and their neoconservative agents worked overtime to recreate the \\u00c2\\u0093Russian Threat\\u00c2\\u0094 by demonizing Russia.\\nAccustomed to many decades of excess profits from the profitable Cold War, the military/security complex was angry when President Reagan brought the Cold War to an end. Before these leaches on American taxpayers could get the Cold War going again, the Soviet Union collapsed as a result of a right-wing coup against Soviet President Mikhail Gorbachev.\\nThe military/security complex and their zionist neoconservative agents cooked up \\u00c2\\u0093the war on terror\\u00c2\\u0094 to keep the money flowing to the One Percent. But as hard as the presstitute media worked to create fear of \\u00c2\\u0093the Muslim threat,\\u00c2\\u0094 even insouciant Americans knew that the Muslims did not have thousands of ICBMs carrying powerful thermo-nuclear weapons capable of destroying the entirety of the United States in a few minutes. Neither did the Muslims have the Red Army capable of overrunning all of Europe in a couple of days. Indeed, the Muslims haven\\u00c2\\u0092t needed an army. Refugees from Washington\\u00c2\\u0092s wars enabled by Europeans are overrunning Europe.\\nThe excuse for the annual trillion dollar ($1,000 billion ) military/security budget was missing. So the Oligarchy created \\u00c2\\u0093the New Hitler\\u00c2\\u0094 in Russia. Hillary was the Oligarchy\\u00c2\\u0092s principle agent for heating up the new Cold War.\\nHillary is the tool, enriched by the Oligarchy, whose job as President was to protect and to increase the trillion dollar budget of the military/security complex. With Hillary in the White House, the looting of the American taxpayers in behalf of the wealth of the One Percent could go forward unimpeded. But if Trump resolves \\u00c2\\u0093the Russian threat,\\u00c2\\u0094 the Oligarchy takes an income hit.\\nHillary\\u00c2\\u0092s job as President was also to privatize Social Security in order that her Wall Street benefactors can rip off Americans the way that Americans have been ripped off by the insurance companies under Obamacare.\\nThose Americans who do not pay attention think, mistakenly, that the FBI cleared Hillary of violating National Security protocols with her email practices. The FBI said that Hillary did violate National Security, but that it was a result of carelessness or ignorance. She got off from indictment, because the FBI concluded that she did not intentionally violate National Security protocols. The investigation of the Clinton Foundation continues.\\nIn other words, in order to protect Hillary the FBI fell back on the ancient common law rule that \\u00c2\\u0093there can be no crime without intent.\\u00c2\\u0094 (See PCR and Lawrence Stratton, The Tyranny of Good Intentions .)\\nOne would think that protesters, if they were legitimate, would be celebrating Trump\\u00c2\\u0092s victory. He, unlike Hillary, promises to reduce tensions with powerful Russia, and we hope also with China. Unlike Hillary, Trump says he is concerned with the absence of careers for those very people protesting in the streets of 25 cities against him.\\nIn other words, the protests against the American people for electing Trump as their president are pointless. The protests are happening for one reason only. The Oligarchy intends to delegitimize the Trump Presidency. Once President Trump is delegitimized, it will be easier for the Oligarchy to assassinate him. Unless the Oligarchy can appoint and control Trump\\u00c2\\u0092s government, Trump is a prime candidate for assassination.\\nThe protests against Trump are suspicious for another reason. Unlike Hillary, Obama, and George W. Bush, Donald Trump has not slaughtered and dislocated millions of peoples in seven countries, sending millions of refugees from the Oligarchy\\u00c2\\u0092s wars to overrun Europe.\\nTrump earned his fortune, and if by hook or crook, not by selling US government influence to foreign agents as Bill and Hillary did.\\nSo what are the protesters protesting?\\nThere is no answer except that they are hired to protest. Just as the Maidan protesters in Kiev were hired to protest by US and German financed NGOs.\\nThe protests in Kiev were equally pointless, because presidential elections were only months away. If Ukrainians really believed that their president was conspiring with Russia to keep Ukraine from becoming a Western puppet state and wished to become a puppet state regardless of the costs, the opportunity to vote the government out was at hand. The only reason for the protests was to orchestrate a coup. The US did succeed in putting their agent in control of the new Ukrainian government as Victoria Nuland and the US ambassador in Kiev confirmed in their telephone conversation that is available on the Internet.\\nThe Maidan protests were pointless except for making a coup possible. The protests were without any doubt arranged by Washington through Assistant Secretary of State Victoria Nuland, a neoconservative brought into the State Department by Hillary Clinton for the purpose of creating conflict with Russia.\\nTrump is being protested in order to make him vulnerable in the event he proves to be the threat to the Oligarchy that he is thought to be.\\nTrump won the presidency, but the Oligarchy is still in power, which makes any real reforms difficult to achieve. Symbolic reforms can be the product of the contest between President Trump and the oligarchs.\\nKarl Marx learned from historical experience, and Lenin, Stalin, and Pol Pot learned from Karl Marx, that change cannot occur if the displaced ruling class is left intact after a revolution against them. We have proof of this throughout South America. Every revolution by the indigenous people has left unmolested the Spanish ruling class, and every revolution has been overthrown by collusion between the ruling class and Washington.\\nWashington has conspired with traditional elites to remove the elected presidents of Honduras on a number of occasions. Recently, Washington helped elites evict the female presidents of Argentina and Brazil. The presidents of Venezuela, Ecuador, and Bolivia are in the crosshairs and are unlikely to survive. Washington is determined to get its hands on Julian Assange. To achieve this Washington intends to overthrow the Ecuadoran government that, in defiance of Washington, gave Julian Assange political asylum.\\nHugo Chavez had the power to exile or to exterminate the Spanish ruling class in Venezuela when the ruling class participated in a CIA coup against Chavez. But before the CIA could kill Chavez, the people and the military forced his release. Instead of punishing the criminals who would have murdered him, Chavez let them go.\\nAccording to Marx, Lenin, and Stalin, this is the classic mistake of the revolutionary. To rely on good will from the overthrown ruling class is the certain road to the defeat of the revolution.\\nLatin American has proved itself unable to learn this lesson: Revolutions cannot be conciliatory.\\nTrump is a dealmaker. The Oligarchy can permit him the sheen of success in exchange for no real change.\\nTrump is not perfect. He might fail on his own. But we should back him on the two most important elements in his program: to reduce tensions between the major nuclear powers, and to halt Washington\\u00c2\\u0092s policy of permitting globalism to destroy Americans\\u00c2\\u0092 economic prospects.\\nIf tensions between nuclear powers worsen, we won\\u00c2\\u0092t be here to worry about other problems. The combination of the economy hollowed out by globalism and immigration is an economic nightmare. That Trump understands this is reason to support him.\\nNote: Some believe that Trump is a ruse conducted by the Oligarchy. However, as Hillary is the bought-and-paid-for representative of the Oligarchy, such an elaborate ruse is unnecessary. It is preferable for the Oligarchy to win on its own platform than to install a president on the opposite platform and then change him around. Another sellout increases the anger of the people. If Hillary had won, the Oligarchy would have had the voters\\u00c2\\u0092 mandate for their platform.\\nDr. Paul Craig Roberts was Assistant Secretary of the Treasury for Economic Policy and associate editor of the Wall Street Journal. He was columnist for Business Week, Scripps Howard News Service, and Creators Syndicate. He has had many university appointments. His internet columns have attracted a worldwide following. Roberts' latest books are The Failure of Laissez Faire Capitalism and Economic Dissolution of the West , How America Was Lost , and The Neoconservative Threat to World Order .\"\n        ],\n        \"semantic_type\": \"\",\n        \"description\": \"\"\n      }\n    },\n    {\n      \"column\": \"label\",\n      \"properties\": {\n        \"dtype\": \"category\",\n        \"num_unique_values\": 2,\n        \"samples\": [\n          \"FAKE\",\n          \"REAL\"\n        ],\n        \"semantic_type\": \"\",\n        \"description\": \"\"\n      }\n    }\n  ]\n}"
            }
          },
          "metadata": {},
          "execution_count": 6
        }
      ],
      "source": [
        "df.tail()"
      ]
    },
    {
      "cell_type": "code",
      "execution_count": null,
      "metadata": {
        "id": "Lx1lCEIb2jtM",
        "colab": {
          "base_uri": "https://localhost:8080/"
        },
        "outputId": "b3256ed5-d6be-4a9e-8a01-5b077b9cd4f5"
      },
      "outputs": [
        {
          "output_type": "execute_result",
          "data": {
            "text/plain": [
              "0       Daniel Greenfield, a Shillman Journalism Fello...\n",
              "1       Google Pinterest Digg Linkedin Reddit Stumbleu...\n",
              "2       U.S. Secretary of State John F. Kerry said Mon...\n",
              "3       â Kaydee King (@KaydeeKing) November 9, 2016...\n",
              "4       It's primary day in New York and front-runners...\n",
              "                              ...                        \n",
              "6330    The State Department told the Republican Natio...\n",
              "6331    The âPâ in PBS Should Stand for âPlutocr...\n",
              "6332     Anti-Trump Protesters Are Tools of the Oligar...\n",
              "6333    ADDIS ABABA, Ethiopia âPresident Obama conve...\n",
              "6334    Jeb Bush Is Suddenly Attacking Trump. Here's W...\n",
              "Name: text, Length: 6335, dtype: object"
            ]
          },
          "metadata": {},
          "execution_count": 7
        }
      ],
      "source": [
        "text=df.text\n",
        "text"
      ]
    },
    {
      "cell_type": "code",
      "execution_count": null,
      "metadata": {
        "id": "smnD-3JH2sWR",
        "colab": {
          "base_uri": "https://localhost:8080/"
        },
        "outputId": "d1e90ef8-6706-4fe7-f84d-0a17273b9fc7"
      },
      "outputs": [
        {
          "output_type": "stream",
          "name": "stderr",
          "text": [
            "[nltk_data] Downloading package punkt to /root/nltk_data...\n",
            "[nltk_data]   Package punkt is already up-to-date!\n",
            "[nltk_data] Downloading package stopwords to /root/nltk_data...\n",
            "[nltk_data]   Package stopwords is already up-to-date!\n"
          ]
        },
        {
          "output_type": "execute_result",
          "data": {
            "text/plain": [
              "True"
            ]
          },
          "metadata": {},
          "execution_count": 8
        }
      ],
      "source": [
        "nltk.download('punkt')\n",
        "nltk.download('stopwords')"
      ]
    },
    {
      "cell_type": "code",
      "execution_count": null,
      "metadata": {
        "id": "QGiU46Ut3DeH"
      },
      "outputs": [],
      "source": [
        "from nltk.corpus import stopwords\n",
        "from nltk.tokenize import word_tokenize\n",
        "import re\n",
        "\n",
        "stemmer = nltk.SnowballStemmer('english')\n",
        "sw = stopwords.words('english')"
      ]
    },
    {
      "cell_type": "code",
      "source": [
        "import string"
      ],
      "metadata": {
        "id": "AvyfoDbfBduP"
      },
      "execution_count": null,
      "outputs": []
    },
    {
      "cell_type": "code",
      "source": [
        "def clean(text):\n",
        "    text = str(text).lower()  # convert to lowercase\n",
        "\n",
        "    text=re.sub('[^a-z0-9]+', ' ', text)  # removes all regular expressions\n",
        "\n",
        "    text=[word for word in text.split(' ') if word not in sw]  # removes stopwords\n",
        "    text=\" \".join(text)\n",
        "\n",
        "    text=[stemmer.stem(word) for word in text.split(' ')] # stemming\n",
        "    text=\" \".join(text)\n",
        "    return text\n",
        "\n",
        "\n",
        "text = text.apply(clean)\n",
        "text"
      ],
      "metadata": {
        "id": "jdSmRzpHAviv",
        "colab": {
          "base_uri": "https://localhost:8080/"
        },
        "outputId": "1db0065a-a448-42a6-c1aa-5f312de132a9"
      },
      "execution_count": null,
      "outputs": [
        {
          "output_type": "execute_result",
          "data": {
            "text/plain": [
              "0       daniel greenfield shillman journal fellow free...\n",
              "1       googl pinterest digg linkedin reddit stumbleup...\n",
              "2       u secretari state john f kerri said monday sto...\n",
              "3        kayde king kaydeek novemb 9 2016 lesson tonig...\n",
              "4       primari day new york front runner hillari clin...\n",
              "                              ...                        \n",
              "6330    state depart told republican nation committe c...\n",
              "6331    p pbs stand plutocrat pentagon post oct 27 201...\n",
              "6332     anti trump protest tool oligarchi reform alwa...\n",
              "6333    addi ababa ethiopia presid obama conven meet l...\n",
              "6334    jeb bush sudden attack trump matter jeb bush p...\n",
              "Name: text, Length: 6335, dtype: object"
            ]
          },
          "metadata": {},
          "execution_count": 11
        }
      ]
    },
    {
      "cell_type": "code",
      "execution_count": null,
      "metadata": {
        "id": "EjYJskVz_oI_",
        "colab": {
          "base_uri": "https://localhost:8080/"
        },
        "outputId": "c5e2e783-73cf-4daf-baf7-ec4bf460a580"
      },
      "outputs": [
        {
          "output_type": "execute_result",
          "data": {
            "text/plain": [
              "<6335x45152 sparse matrix of type '<class 'numpy.float64'>'\n",
              "\twith 1634822 stored elements in Compressed Sparse Row format>"
            ]
          },
          "metadata": {},
          "execution_count": 12
        }
      ],
      "source": [
        "from sklearn.feature_extraction.text import TfidfVectorizer\n",
        "vec = TfidfVectorizer()\n",
        "data = vec.fit_transform(text)\n",
        "data"
      ]
    },
    {
      "cell_type": "code",
      "source": [
        "print(data)"
      ],
      "metadata": {
        "colab": {
          "base_uri": "https://localhost:8080/"
        },
        "id": "0cylA4muDo3d",
        "outputId": "e7769f44-51e6-4812-9bb8-4221b9c1042e"
      },
      "execution_count": null,
      "outputs": [
        {
          "output_type": "stream",
          "name": "stdout",
          "text": [
            "  (0, 13549)\t0.01867202814864652\n",
            "  (0, 7061)\t0.016495617043373316\n",
            "  (0, 2264)\t0.027617983878197392\n",
            "  (0, 19518)\t0.027617983878197392\n",
            "  (0, 7401)\t0.028915549083263683\n",
            "  (0, 8425)\t0.012821769459004193\n",
            "  (0, 36546)\t0.022147492523349445\n",
            "  (0, 28034)\t0.013756091080090778\n",
            "  (0, 10830)\t0.022681698069898202\n",
            "  (0, 28752)\t0.02452356500247699\n",
            "  (0, 44298)\t0.023735424978473196\n",
            "  (0, 37998)\t0.015295304676562245\n",
            "  (0, 23304)\t0.010999621765085016\n",
            "  (0, 25487)\t0.011691760578976007\n",
            "  (0, 35373)\t0.02213157635150719\n",
            "  (0, 41356)\t0.028276394483630465\n",
            "  (0, 32929)\t0.022309137738854068\n",
            "  (0, 9190)\t0.014116552776480348\n",
            "  (0, 4724)\t0.015119962738334079\n",
            "  (0, 38119)\t0.018646039337482212\n",
            "  (0, 7903)\t0.022752121852275015\n",
            "  (0, 42512)\t0.01971698337928586\n",
            "  (0, 35917)\t0.018715606882435353\n",
            "  (0, 3228)\t0.01810534917695141\n",
            "  (0, 20666)\t0.029020540287455956\n",
            "  :\t:\n",
            "  (6334, 16034)\t0.023139170262601955\n",
            "  (6334, 40219)\t0.01206256086833758\n",
            "  (6334, 38492)\t0.027658707939943235\n",
            "  (6334, 11540)\t0.06391121077782727\n",
            "  (6334, 9896)\t0.017702922669402394\n",
            "  (6334, 23534)\t0.019912476951520822\n",
            "  (6334, 40977)\t0.4096880860953189\n",
            "  (6334, 19018)\t0.050816300425599516\n",
            "  (6334, 25750)\t0.037048463891815285\n",
            "  (6334, 10750)\t0.02143770577120467\n",
            "  (6334, 4513)\t0.15047956718525624\n",
            "  (6334, 44296)\t0.024023649858443064\n",
            "  (6334, 30541)\t0.012570724945441451\n",
            "  (6334, 17026)\t0.01373998501760223\n",
            "  (6334, 30177)\t0.03415065603100949\n",
            "  (6334, 31369)\t0.03034277314785533\n",
            "  (6334, 38268)\t0.017083373766953642\n",
            "  (6334, 29057)\t0.023182876796547243\n",
            "  (6334, 4169)\t0.018646109382603762\n",
            "  (6334, 44233)\t0.021730762271937692\n",
            "  (6334, 43338)\t0.019501856319578688\n",
            "  (6334, 9155)\t0.015411545139906271\n",
            "  (6334, 18909)\t0.016005815454304656\n",
            "  (6334, 13433)\t0.015401796151019451\n",
            "  (6334, 28043)\t0.0642120366558746\n"
          ]
        }
      ]
    },
    {
      "cell_type": "code",
      "source": [
        "result = df['label']\n",
        "result"
      ],
      "metadata": {
        "colab": {
          "base_uri": "https://localhost:8080/"
        },
        "id": "QOPi_zefDyL5",
        "outputId": "d1fd7183-3229-4ab3-84b5-7acf9cf68304"
      },
      "execution_count": null,
      "outputs": [
        {
          "output_type": "execute_result",
          "data": {
            "text/plain": [
              "0       FAKE\n",
              "1       FAKE\n",
              "2       REAL\n",
              "3       FAKE\n",
              "4       REAL\n",
              "        ... \n",
              "6330    REAL\n",
              "6331    FAKE\n",
              "6332    FAKE\n",
              "6333    REAL\n",
              "6334    REAL\n",
              "Name: label, Length: 6335, dtype: object"
            ]
          },
          "metadata": {},
          "execution_count": 14
        }
      ]
    },
    {
      "cell_type": "code",
      "source": [
        "len(result)"
      ],
      "metadata": {
        "colab": {
          "base_uri": "https://localhost:8080/"
        },
        "id": "Rxi20NpMEusy",
        "outputId": "6535b490-486d-42d8-8e23-8122af2359e6"
      },
      "execution_count": null,
      "outputs": [
        {
          "output_type": "execute_result",
          "data": {
            "text/plain": [
              "6335"
            ]
          },
          "metadata": {},
          "execution_count": 15
        }
      ]
    },
    {
      "cell_type": "code",
      "source": [
        "data.shape"
      ],
      "metadata": {
        "colab": {
          "base_uri": "https://localhost:8080/"
        },
        "id": "gq8EvK6ADv7h",
        "outputId": "b6b33448-e6ff-490f-a738-5ce0304409ae"
      },
      "execution_count": null,
      "outputs": [
        {
          "output_type": "execute_result",
          "data": {
            "text/plain": [
              "(6335, 45152)"
            ]
          },
          "metadata": {},
          "execution_count": 16
        }
      ]
    },
    {
      "cell_type": "code",
      "source": [
        "result.value_counts()"
      ],
      "metadata": {
        "colab": {
          "base_uri": "https://localhost:8080/"
        },
        "id": "roIKd1ynEIy9",
        "outputId": "a42d9c34-e9a8-4d5b-c09e-f8186eccbc14"
      },
      "execution_count": null,
      "outputs": [
        {
          "output_type": "execute_result",
          "data": {
            "text/plain": [
              "label\n",
              "REAL    3171\n",
              "FAKE    3164\n",
              "Name: count, dtype: int64"
            ]
          },
          "metadata": {},
          "execution_count": 17
        }
      ]
    },
    {
      "cell_type": "code",
      "source": [
        "plt.pie(result.value_counts(), labels=['Fake','Real'],autopct='%1.1f%%')\n",
        "plt.title('ratio of Fake News to Real News')"
      ],
      "metadata": {
        "colab": {
          "base_uri": "https://localhost:8080/",
          "height": 446
        },
        "id": "4tizYhTqD-0E",
        "outputId": "c798c4e6-6dde-4d7e-e066-48dbbb2b3920"
      },
      "execution_count": null,
      "outputs": [
        {
          "output_type": "execute_result",
          "data": {
            "text/plain": [
              "Text(0.5, 1.0, 'ratio of Fake News to Real News')"
            ]
          },
          "metadata": {},
          "execution_count": 18
        },
        {
          "output_type": "display_data",
          "data": {
            "text/plain": [
              "<Figure size 640x480 with 1 Axes>"
            ],
            "image/png": "[encoded data removed]"
          },
          "metadata": {}
        }
      ]
    },
    {
      "cell_type": "code",
      "source": [
        "x = data\n",
        "y = result.values\n",
        "y"
      ],
      "metadata": {
        "colab": {
          "base_uri": "https://localhost:8080/"
        },
        "id": "MPPPTwH5EyiN",
        "outputId": "86e0b792-1292-4b21-faef-c0a93fb9992b"
      },
      "execution_count": null,
      "outputs": [
        {
          "output_type": "execute_result",
          "data": {
            "text/plain": [
              "array(['FAKE', 'FAKE', 'REAL', ..., 'FAKE', 'REAL', 'REAL'], dtype=object)"
            ]
          },
          "metadata": {},
          "execution_count": 19
        }
      ]
    },
    {
      "cell_type": "code",
      "source": [
        "from sklearn.model_selection import train_test_split\n",
        "x_train,x_test,y_train,y_test = train_test_split(x,y,test_size=0.30,random_state=0)\n",
        "print(x_train)"
      ],
      "metadata": {
        "colab": {
          "base_uri": "https://localhost:8080/"
        },
        "id": "rWv486IAFA4Y",
        "outputId": "e2134e22-ea26-4842-c24a-6be1b98e5904"
      },
      "execution_count": null,
      "outputs": [
        {
          "output_type": "stream",
          "name": "stdout",
          "text": [
            "  (0, 43750)\t0.05548382097138226\n",
            "  (0, 14669)\t0.05104052596008253\n",
            "  (0, 7498)\t0.04776597041202429\n",
            "  (0, 11638)\t0.04116578080120797\n",
            "  (0, 16665)\t0.042153935937483074\n",
            "  (0, 38336)\t0.05104052596008253\n",
            "  (0, 18215)\t0.053639686921334265\n",
            "  (0, 43934)\t0.03992117868123334\n",
            "  (0, 938)\t0.04516680945077256\n",
            "  (0, 6302)\t0.13825239481410606\n",
            "  (0, 15409)\t0.1453240949964924\n",
            "  (0, 34062)\t0.04139890902627935\n",
            "  (0, 29405)\t0.1475891757301036\n",
            "  (0, 34902)\t0.03904167563215057\n",
            "  (0, 860)\t0.08601982970251194\n",
            "  (0, 35662)\t0.046084131604702025\n",
            "  (0, 6325)\t0.03826841166831061\n",
            "  (0, 8160)\t0.03683799017030037\n",
            "  (0, 26443)\t0.036280219428173104\n",
            "  (0, 16023)\t0.0484413649988308\n",
            "  (0, 28538)\t0.04332267540072456\n",
            "  (0, 30963)\t0.03904167563215057\n",
            "  (0, 37187)\t0.03672248578990824\n",
            "  (0, 29702)\t0.03660902584253552\n",
            "  (0, 26571)\t0.03520113624708369\n",
            "  :\t:\n",
            "  (4433, 22161)\t0.043223445256860706\n",
            "  (4433, 30219)\t0.05178862001247671\n",
            "  (4433, 16464)\t0.028622159352933444\n",
            "  (4433, 43465)\t0.033192745594977\n",
            "  (4433, 27199)\t0.017820386807543435\n",
            "  (4433, 34053)\t0.05003635154331961\n",
            "  (4433, 42594)\t0.033142342554654855\n",
            "  (4433, 33701)\t0.05170339634417992\n",
            "  (4433, 7668)\t0.01588797201807878\n",
            "  (4433, 40219)\t0.013329995384918416\n",
            "  (4433, 33794)\t0.045102575969099674\n",
            "  (4433, 11540)\t0.07062647426295611\n",
            "  (4433, 38057)\t0.02086990417776031\n",
            "  (4433, 40977)\t0.03482574883823663\n",
            "  (4433, 10750)\t0.02369020327544927\n",
            "  (4433, 44296)\t0.026547857062633472\n",
            "  (4433, 9263)\t0.0264093227710448\n",
            "  (4433, 19384)\t0.050239973038481475\n",
            "  (4433, 12515)\t0.02460520606911072\n",
            "  (4433, 30541)\t0.01389155315664798\n",
            "  (4433, 4169)\t0.020605288937376922\n",
            "  (4433, 9155)\t0.17030863332565704\n",
            "  (4433, 18909)\t0.07075029870241512\n",
            "  (4433, 13433)\t0.017020090000245364\n",
            "  (4433, 15194)\t0.023997970095425723\n"
          ]
        }
      ]
    },
    {
      "cell_type": "code",
      "source": [
        "print(x_test)"
      ],
      "metadata": {
        "colab": {
          "base_uri": "https://localhost:8080/"
        },
        "id": "j2Mfz_0RFX2L",
        "outputId": "f49cbeaa-d089-4fa2-d173-c4d171567e2c"
      },
      "execution_count": null,
      "outputs": [
        {
          "output_type": "stream",
          "name": "stdout",
          "text": [
            "  (0, 38453)\t0.14574834526053276\n",
            "  (0, 9915)\t0.07287417263026638\n",
            "  (0, 7174)\t0.1392262384994236\n",
            "  (0, 44069)\t0.0672993650545085\n",
            "  (0, 42075)\t0.06403831167395388\n",
            "  (0, 32324)\t0.06403831167395388\n",
            "  (0, 22475)\t0.059163314610628646\n",
            "  (0, 19383)\t0.054767601722808534\n",
            "  (0, 5291)\t0.134598730109017\n",
            "  (0, 34647)\t0.056668816915968596\n",
            "  (0, 237)\t0.059163314610628646\n",
            "  (0, 19110)\t0.05520245071764138\n",
            "  (0, 18674)\t0.061724557478750566\n",
            "  (0, 25328)\t0.05992987029652319\n",
            "  (0, 7125)\t0.11985974059304638\n",
            "  (0, 8183)\t0.10388279467417358\n",
            "  (0, 11521)\t0.04940728011775849\n",
            "  (0, 33832)\t0.05358850703487073\n",
            "  (0, 14957)\t0.05781974083169587\n",
            "  (0, 37989)\t0.05566216139299296\n",
            "  (0, 23717)\t0.05136667095149915\n",
            "  (0, 33465)\t0.04962764314188346\n",
            "  (0, 43190)\t0.06077725829339929\n",
            "  (0, 20325)\t0.05083028908308766\n",
            "  (0, 33550)\t0.04487543849795267\n",
            "  :\t:\n",
            "  (1900, 39286)\t0.02425675380819327\n",
            "  (1900, 11813)\t0.015415460991074086\n",
            "  (1900, 38659)\t0.021073151264203126\n",
            "  (1900, 31151)\t0.027168325175572865\n",
            "  (1900, 24212)\t0.011325495339125309\n",
            "  (1900, 43465)\t0.019367244459671414\n",
            "  (1900, 30899)\t0.017393435235506793\n",
            "  (1900, 19386)\t0.021653243377271408\n",
            "  (1900, 34321)\t0.015396895509311111\n",
            "  (1900, 9592)\t0.035160510041654956\n",
            "  (1900, 40219)\t0.015555524235095177\n",
            "  (1900, 18446)\t0.013886448993514012\n",
            "  (1900, 10394)\t0.128685668443228\n",
            "  (1900, 23458)\t0.03535264128883753\n",
            "  (1900, 2510)\t0.012299454950066388\n",
            "  (1900, 40977)\t0.010160033151088807\n",
            "  (1900, 39399)\t0.10973390867505305\n",
            "  (1900, 10750)\t0.013822717883402993\n",
            "  (1900, 28864)\t0.07483664070427302\n",
            "  (1900, 12069)\t0.030113048722727513\n",
            "  (1900, 44296)\t0.02323514498708312\n",
            "  (1900, 30541)\t0.00810541885242645\n",
            "  (1900, 38268)\t0.033045325642239845\n",
            "  (1900, 28043)\t0.06624476532223696\n",
            "  (1900, 8279)\t0.014427485615769797\n"
          ]
        }
      ]
    },
    {
      "cell_type": "code",
      "source": [
        "y_train"
      ],
      "metadata": {
        "colab": {
          "base_uri": "https://localhost:8080/"
        },
        "id": "-o0oy_RRFewc",
        "outputId": "9502b7bf-dc8f-49fa-f98e-b5c04ce6d9ca"
      },
      "execution_count": null,
      "outputs": [
        {
          "output_type": "execute_result",
          "data": {
            "text/plain": [
              "array(['REAL', 'REAL', 'FAKE', ..., 'FAKE', 'FAKE', 'REAL'], dtype=object)"
            ]
          },
          "metadata": {},
          "execution_count": 22
        }
      ]
    },
    {
      "cell_type": "code",
      "source": [
        "from sklearn.neighbors import KNeighborsClassifier\n",
        "from sklearn.metrics import confusion_matrix,accuracy_score\n",
        "knn = KNeighborsClassifier()"
      ],
      "metadata": {
        "id": "-lMqilzKGucE"
      },
      "execution_count": null,
      "outputs": []
    },
    {
      "cell_type": "code",
      "source": [
        "knn.fit(x_train,y_train)\n",
        "y_pred=knn.predict(x_test)\n",
        "print(y_pred)"
      ],
      "metadata": {
        "colab": {
          "base_uri": "https://localhost:8080/"
        },
        "id": "N_q8R4N-KOOw",
        "outputId": "7171e4bc-b578-402e-88ff-2d4dcbda8c7a"
      },
      "execution_count": null,
      "outputs": [
        {
          "output_type": "stream",
          "name": "stdout",
          "text": [
            "['FAKE' 'FAKE' 'FAKE' ... 'FAKE' 'FAKE' 'REAL']\n"
          ]
        }
      ]
    },
    {
      "cell_type": "code",
      "source": [
        "print('Confusion Matrix :')\n",
        "print(confusion_matrix(y_test,y_pred))\n",
        "print('Accuracy Score :',accuracy_score(y_test,y_pred))"
      ],
      "metadata": {
        "colab": {
          "base_uri": "https://localhost:8080/"
        },
        "id": "RmKDbjx7No1T",
        "outputId": "0b4f8b04-93e3-47bf-d40e-21437e3238c4"
      },
      "execution_count": null,
      "outputs": [
        {
          "output_type": "stream",
          "name": "stdout",
          "text": [
            "Confusion Matrix :\n",
            "[[932   1]\n",
            " [751 217]]\n",
            "Accuracy Score : 0.6044187269857969\n"
          ]
        }
      ]
    }
  ],
  "metadata": {
    "colab": {
      "provenance": [],
      "mount_file_id": "1hyUHFCKiKejcZUWZRPdIpVVuYOhILPOc",
      "authorship_tag": "ABX9TyPfgPcfzPSaiF9fhF1iNjB8",
      "include_colab_link": true
    },
    "kernelspec": {
      "display_name": "Python 3",
      "name": "python3"
    },
    "language_info": {
      "name": "python"
    }
  },
  "nbformat": 4,
  "nbformat_minor": 0
}